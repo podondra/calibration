{
 "cells": [
  {
   "cell_type": "code",
   "execution_count": null,
   "id": "5e2b9cc4-4b87-4333-8c82-d2a03aab5255",
   "metadata": {},
   "outputs": [],
   "source": [
    "import importlib\n",
    "import math\n",
    "import random\n",
    "\n",
    "from matplotlib import pyplot as plt\n",
    "import numpy as np\n",
    "import pandas as pd\n",
    "from sklearn.metrics.pairwise import euclidean_distances\n",
    "import torch\n",
    "\n",
    "from calibration import data\n",
    "from calibration import dists\n",
    "from calibration import mdn\n",
    "from calibration import plot\n",
    "from calibration import vae\n",
    "from calibration import uci"
   ]
  },
  {
   "cell_type": "markdown",
   "id": "6359ed33-295a-4fd3-9350-d96a53c99b81",
   "metadata": {},
   "source": [
    "## Data Sets"
   ]
  },
  {
   "cell_type": "code",
   "execution_count": null,
   "id": "7381b0d8-1b52-4441-9752-072052afffea",
   "metadata": {},
   "outputs": [],
   "source": [
    "BINS = 20"
   ]
  },
  {
   "cell_type": "code",
   "execution_count": null,
   "id": "22f63ce3-9216-419b-8ba9-cafac1fdf169",
   "metadata": {},
   "outputs": [],
   "source": [
    "torch.manual_seed(78)\n",
    "TESTS = 100\n",
    "testset = data.PITHistRndDataset(TESTS, BINS, samples=100)\n",
    "len(testset)"
   ]
  },
  {
   "cell_type": "code",
   "execution_count": null,
   "id": "7a34fb8d-fa51-4796-9740-f5ce3a2aa709",
   "metadata": {},
   "outputs": [],
   "source": [
    "refset = data.PITHistRefDataset(BINS, steps=10)\n",
    "len(refset)"
   ]
  },
  {
   "cell_type": "markdown",
   "id": "93e7c8bd-4b2a-46a2-a5eb-b5a643462001",
   "metadata": {},
   "source": [
    "## Mixture Density Network"
   ]
  },
  {
   "cell_type": "code",
   "execution_count": null,
   "id": "f6abe712-cd0a-4182-ad61-550171064cf9",
   "metadata": {},
   "outputs": [],
   "source": [
    "checkpoint = torch.load(\"models/iconic-firebrand-685.pt\")\n",
    "hyperparams = checkpoint[\"hyperparams\"]\n",
    "model = mdn.MDN(inputs=hyperparams[\"bins\"],\n",
    "                neurons=hyperparams[\"neurons\"],\n",
    "                hiddens=hyperparams[\"hiddens\"],\n",
    "                k=hyperparams[\"k\"])\n",
    "model.load_state_dict(checkpoint[\"model_state_dict\"])\n",
    "model"
   ]
  },
  {
   "cell_type": "code",
   "execution_count": null,
   "id": "64e8b175-4f08-4d44-9824-d5b6942376c9",
   "metadata": {},
   "outputs": [],
   "source": [
    "alpha, mu, sigma = model.predict(testset.X)"
   ]
  },
  {
   "cell_type": "code",
   "execution_count": null,
   "id": "07f4d5d3-d362-40a2-983e-ee276914df8a",
   "metadata": {},
   "outputs": [],
   "source": [
    "for i in range(len(testset)):\n",
    "    dist_data = data.y2dist(*testset.y[i])\n",
    "    dist_mdn = mdn.mdn2dist(alpha[i], mu[i], sigma[i])\n",
    "    i = euclidean_distances(testset.X[i].unsqueeze(0), refset.X).argmin()\n",
    "    dist_nn = data.y2dist(*refset.y[i])\n",
    "    # visualisation\n",
    "    _, ax = plt.subplots()\n",
    "    plot.pdf(ax, dist_data, label=\"data generating\")\n",
    "    plot.pdf(ax, dist_mdn, label=\"prediction\")\n",
    "    plot.pdf(ax, dist_nn, label=\"nearest neighbor\")\n",
    "    ax.legend()\n",
    "    plt.show()\n",
    "    plt.close()"
   ]
  },
  {
   "cell_type": "markdown",
   "id": "ee8794f1-152c-4d84-b886-309494d7f059",
   "metadata": {},
   "source": [
    "## Uniform PIT histogram"
   ]
  },
  {
   "cell_type": "code",
   "execution_count": null,
   "id": "11281282-60ff-4b81-8920-6a8d3d2f7676",
   "metadata": {},
   "outputs": [],
   "source": [
    "pit_hist_uniform = torch.full((BINS, ), 1 / BINS)\n",
    "alpha_uniform, mu_uniform, sigma_uniform = model.predict(pit_hist_uniform)\n",
    "dist_uniform = mdn.mdn2dist(alpha_uniform, mu_uniform, sigma_uniform)\n",
    "_, ax = plt.subplots()\n",
    "plot.pdf(ax, dists.Normal(0, 1), label=\"data generating\")\n",
    "plot.pdf(ax, dist_uniform, label=\"prediction\")\n",
    "ax.legend()\n",
    "dist_uniform"
   ]
  },
  {
   "cell_type": "markdown",
   "id": "446d3265-8705-4828-bb66-fa532770e713",
   "metadata": {},
   "source": [
    "## Protein Data Set"
   ]
  },
  {
   "cell_type": "code",
   "execution_count": null,
   "id": "762e613f-d26e-4773-8ae2-9e52621877ee",
   "metadata": {},
   "outputs": [],
   "source": [
    "(_, proteinset), _ = uci.get_dataset(\"protein\", seed=50, validation=False, preparation=True)\n",
    "X_protein, y_protein = proteinset.tensors\n",
    "nn = uci.NeuralNetwork(X_protein.shape[-1], {\"loss\": \"nll\", \"neurons\": 64, \"hiddens\": 1})\n",
    "nn.load(\"nll-1-1-5432\")\n",
    "y_pred_protein = nn.predict(proteinset)\n",
    "pit_values_protein = uci.normal_pit(*y_pred_protein, y_protein.cpu()).squeeze()\n",
    "pit_hist_protein = data.pit_hist(pit_values_protein, BINS)"
   ]
  },
  {
   "cell_type": "code",
   "execution_count": null,
   "id": "a6a2c8bc-f2e3-4f59-8623-3d31ccc69c32",
   "metadata": {},
   "outputs": [],
   "source": [
    "alpha_protein, mu_protein, simga_protein = model.predict(pit_hist_protein)"
   ]
  },
  {
   "cell_type": "code",
   "execution_count": null,
   "id": "30092fde-c327-4695-a5cc-c8f7905b163a",
   "metadata": {},
   "outputs": [],
   "source": [
    "alpha_protein"
   ]
  },
  {
   "cell_type": "code",
   "execution_count": null,
   "id": "f5c6b792-3871-40cd-8446-dcb573d2c41b",
   "metadata": {},
   "outputs": [],
   "source": [
    "sample = dists.sample_normal_mixture(alpha_protein, mu_protein, simga_protein, 10000)\n",
    "pit_values = data.pit(dists.Normal(0, 1), sample)\n",
    "pit_hist = data.pit_hist(pit_values, BINS)"
   ]
  },
  {
   "cell_type": "code",
   "execution_count": null,
   "id": "1bca8d0f-81fe-490f-b7b3-5becbe5b4943",
   "metadata": {},
   "outputs": [],
   "source": [
    "dist_protein = mdn.mdn2dist(alpha_protein, mu_protein, simga_protein)\n",
    "_, (ax1, ax2) = plt.subplots(nrows=2)\n",
    "plot.pit_hist(ax1, pit_hist_protein, BINS)\n",
    "plot.pit_hist(ax1, pit_hist, BINS)\n",
    "plot.pdf(ax2, dist_protein)\n",
    "dist_protein"
   ]
  }
 ],
 "metadata": {
  "kernelspec": {
   "display_name": "Python 3 (ipykernel)",
   "language": "python",
   "name": "python3"
  },
  "language_info": {
   "codemirror_mode": {
    "name": "ipython",
    "version": 3
   },
   "file_extension": ".py",
   "mimetype": "text/x-python",
   "name": "python",
   "nbconvert_exporter": "python",
   "pygments_lexer": "ipython3",
   "version": "3.10.4"
  }
 },
 "nbformat": 4,
 "nbformat_minor": 5
}
