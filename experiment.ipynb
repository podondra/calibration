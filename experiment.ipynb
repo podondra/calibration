{
 "cells": [
  {
   "cell_type": "code",
   "execution_count": null,
   "id": "4554ed51-89ba-499d-aa03-0ee6bdf7985c",
   "metadata": {},
   "outputs": [],
   "source": [
    "import functools\n",
    "\n",
    "from matplotlib import pyplot as plt\n",
    "from matplotlib.patches import Ellipse\n",
    "import torch\n",
    "\n",
    "from calibration import data\n",
    "from calibration import dists\n",
    "from calibration import plot\n",
    "from calibration import vae\n",
    "from calibration import utils\n",
    "from calibration import uci"
   ]
  },
  {
   "cell_type": "code",
   "execution_count": null,
   "id": "3f5edb80-0f06-4b05-b092-7f8cdd953636",
   "metadata": {},
   "outputs": [],
   "source": [
    "%matplotlib widget"
   ]
  },
  {
   "cell_type": "markdown",
   "id": "adb3d3b5-437d-47c7-b74c-d7b765fce588",
   "metadata": {},
   "source": [
    "## Variational Auto-Encoder"
   ]
  },
  {
   "cell_type": "code",
   "execution_count": null,
   "id": "221ede6a-e3ce-4ab7-9b13-02f414faa4e0",
   "metadata": {},
   "outputs": [],
   "source": [
    "BINS = 10\n",
    "SAMPLES = 1000\n",
    "DEVICE = torch.device(\"cpu\")"
   ]
  },
  {
   "cell_type": "code",
   "execution_count": null,
   "id": "1a68c55a-4595-4de1-8b27-f4d50e202564",
   "metadata": {},
   "outputs": [],
   "source": [
    "utils.seed()\n",
    "testset = data.PITHistDataset(SAMPLES, BINS, DEVICE)\n",
    "len(testset)"
   ]
  },
  {
   "cell_type": "code",
   "execution_count": null,
   "id": "0334f372-1cb9-436d-8ff5-a6494e3d508c",
   "metadata": {},
   "outputs": [],
   "source": [
    "model = vae.VAE(input_dim=BINS,\n",
    "                n_hiddens=4,\n",
    "                n_neurons=32,\n",
    "                embed_dim=2,\n",
    "                epsilon=None)\n",
    "checkpoint = torch.load(\"models/fluent-mountain-382.pt\")\n",
    "model.load_state_dict(checkpoint)\n",
    "model"
   ]
  },
  {
   "cell_type": "code",
   "execution_count": null,
   "id": "f3c21e41-a0ce-494b-95b2-5641a5e3f502",
   "metadata": {},
   "outputs": [],
   "source": [
    "mu_test, sigma_test = model.encode(testset.X)"
   ]
  },
  {
   "cell_type": "code",
   "execution_count": null,
   "id": "11281282-60ff-4b81-8920-6a8d3d2f7676",
   "metadata": {},
   "outputs": [],
   "source": [
    "uniform = torch.full((BINS, ), 1 / BINS)\n",
    "_, ax = plt.subplots()\n",
    "plot.pit_hist(ax, uniform, BINS, label=\"org\")\n",
    "mu_uniform, sigma_uniform = model.encode(uniform.unsqueeze(0))\n",
    "uniform_pred = model.decode(mu_uniform).squeeze()\n",
    "plot.pit_hist(ax, uniform_pred, BINS, label=\"rec\")\n",
    "ax.legend()"
   ]
  },
  {
   "cell_type": "code",
   "execution_count": null,
   "id": "714e5ee3-cde9-499e-81e9-cbb0afb9ad97",
   "metadata": {},
   "outputs": [],
   "source": [
    "fig, ax, ax_pick, ax_press = plot.get_grid()\n",
    "\n",
    "for i in range(len(testset)):\n",
    "    size = 3 * sigma_test[i]\n",
    "    e = Ellipse(xy=mu_test[i], width=3 * sigma_test[i, 0], height=3 * sigma_test[i, 1])\n",
    "    ax.add_artist(e)\n",
    "    e.set_clip_box(ax.bbox)\n",
    "    e.set_alpha(0.5)\n",
    "    e.set_facecolor(\"k\")\n",
    "\n",
    "ax.scatter(mu_test[:, 0], mu_test[:, 1], picker=True)\n",
    "plot_fn = functools.partial(plot.pit_hist, n_bins=BINS)\n",
    "\n",
    "plot_fn = functools.partial(plot.pit_hist, n_bins=BINS)\n",
    "fig.canvas.mpl_connect(\"pick_event\",\n",
    "                       functools.partial(plot.on_pick,\n",
    "                                         ax=ax_pick,\n",
    "                                         dataset=testset,\n",
    "                                         model=model,\n",
    "                                         plot_fn=plot_fn))\n",
    "fig.canvas.mpl_connect(\"button_press_event\",\n",
    "                       functools.partial(plot.on_button_press,\n",
    "                                         ax=ax_press,\n",
    "                                         model=model,\n",
    "                                         plot_fn=plot_fn))"
   ]
  },
  {
   "cell_type": "markdown",
   "id": "0a845a65-b97a-4c1f-b667-338185248dbb",
   "metadata": {},
   "source": [
    "## Protein Data Set"
   ]
  },
  {
   "cell_type": "code",
   "execution_count": null,
   "id": "e8df95e6-4c07-48d8-984b-ed58fbb7f0a5",
   "metadata": {},
   "outputs": [],
   "source": [
    "(_, proteinset), _ = uci.get_dataset(\"protein\", seed=50, validation=False, preparation=True)\n",
    "x_protein, y_protein = proteinset.tensors\n",
    "nn = uci.NeuralNetwork(x_protein.shape[-1],\n",
    "                       {\"loss\": \"nll\", \"neurons\": 64, \"hiddens\": 1})\n",
    "nn.load(\"nll-1-1-5432\")\n",
    "y_pred = nn.predict(proteinset)\n",
    "pit_values = uci.normal_pit(*y_pred, y_protein.cpu())[:, 0]\n",
    "pit_hist = data.pit_hist(pit_values, BINS)\n",
    "\n",
    "mu_protein, sigma_protein = model.encode(pit_hist)\n",
    "\n",
    "_, ax = plt.subplots()\n",
    "plot.pit_hist(ax, pit_hist.squeeze(), BINS, label=\"org\")\n",
    "plot.pit_hist(ax, model.decode(mu_protein).squeeze(), BINS, label=\"rec\")\n",
    "ax.legend()"
   ]
  }
 ],
 "metadata": {
  "kernelspec": {
   "display_name": "Python 3 (ipykernel)",
   "language": "python",
   "name": "python3"
  },
  "language_info": {
   "codemirror_mode": {
    "name": "ipython",
    "version": 3
   },
   "file_extension": ".py",
   "mimetype": "text/x-python",
   "name": "python",
   "nbconvert_exporter": "python",
   "pygments_lexer": "ipython3",
   "version": "3.10.4"
  }
 },
 "nbformat": 4,
 "nbformat_minor": 5
}
