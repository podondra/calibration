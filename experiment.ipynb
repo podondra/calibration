{
 "cells": [
  {
   "cell_type": "code",
   "execution_count": null,
   "id": "5e2b9cc4-4b87-4333-8c82-d2a03aab5255",
   "metadata": {},
   "outputs": [],
   "source": [
    "from matplotlib import pyplot as plt\n",
    "import pandas as pd\n",
    "from sklearn import model_selection\n",
    "from sklearn import preprocessing\n",
    "from sklearn.metrics.pairwise import euclidean_distances\n",
    "import torch\n",
    "\n",
    "from calibration import data\n",
    "from calibration import dist\n",
    "from calibration import method\n",
    "from calibration import pit\n",
    "from calibration import plot"
   ]
  },
  {
   "cell_type": "code",
   "execution_count": null,
   "id": "465f3a40-2875-407a-84e5-44a2cab8fe53",
   "metadata": {},
   "outputs": [],
   "source": [
    "def param2pdf(weight, mean, variance):\n",
    "    return lambda x: dist.pdf_gaussian_mixture(x, weight, mean, variance)\n",
    "\n",
    "def y2pdf(w, s, v1, v2):\n",
    "    weight = torch.tensor([w, 1 - w])\n",
    "    mean = torch.tensor([-s / 2, s / 2])\n",
    "    variance = torch.tensor([v1, v2])\n",
    "    return param2pdf(weight, mean, variance)"
   ]
  },
  {
   "cell_type": "markdown",
   "id": "6359ed33-295a-4fd3-9350-d96a53c99b81",
   "metadata": {},
   "source": [
    "## Synthetic data set"
   ]
  },
  {
   "cell_type": "code",
   "execution_count": null,
   "id": "22f63ce3-9216-419b-8ba9-cafac1fdf169",
   "metadata": {},
   "outputs": [],
   "source": [
    "TESTS = 1000\n",
    "torch.manual_seed(78)\n",
    "testset = pit.PITDataset(TESTS)"
   ]
  },
  {
   "cell_type": "code",
   "execution_count": null,
   "id": "7a34fb8d-fa51-4796-9740-f5ce3a2aa709",
   "metadata": {},
   "outputs": [],
   "source": [
    "refset = pit.PITReference()\n",
    "len(refset)"
   ]
  },
  {
   "cell_type": "code",
   "execution_count": null,
   "id": "f6abe712-cd0a-4182-ad61-550171064cf9",
   "metadata": {},
   "outputs": [],
   "source": [
    "checkpoint = torch.load(\"models/skilled-monkey-956.pt\")\n",
    "hyperparams = checkpoint[\"hyperparams\"]\n",
    "interpreter = method.MDN(inputs=hyperparams[\"bins\"],\n",
    "                neurons=hyperparams[\"neurons\"],\n",
    "                components=hyperparams[\"m\"])\n",
    "interpreter.load_state_dict(checkpoint[\"model_state_dict\"])\n",
    "interpreter"
   ]
  },
  {
   "cell_type": "code",
   "execution_count": null,
   "id": "99b54034-9093-4c89-a598-530c749f160b",
   "metadata": {},
   "outputs": [],
   "source": [
    "pred_mdn = method.predict(interpreter, testset.X)"
   ]
  },
  {
   "cell_type": "code",
   "execution_count": null,
   "id": "07f4d5d3-d362-40a2-983e-ee276914df8a",
   "metadata": {
    "scrolled": true
   },
   "outputs": [],
   "source": [
    "distances = euclidean_distances(testset.X, refset.X)\n",
    "js = distances.argmin(axis=1)\n",
    "for y, weight, mean, variance, neighbour in zip(testset.annotation,\n",
    "                                          *pred_mdn,\n",
    "                                          refset.annotation[js]):\n",
    "    _, ax = plt.subplots()\n",
    "    plot.density(ax, y2pdf(*y), label=\"data generating\")\n",
    "    plot.density(ax, param2pdf(weight, mean, variance), label=\"MDN\")\n",
    "    plot.density(ax, y2pdf(*neighbour), label=\"nearest neighbor\")\n",
    "    ax.legend()\n",
    "    plt.show()\n",
    "    plt.close()"
   ]
  },
  {
   "cell_type": "code",
   "execution_count": null,
   "id": "c1ba470f-68c9-4a0e-81f8-5765dca510a7",
   "metadata": {},
   "outputs": [],
   "source": [
    "nll_mdn = dist.nll_gaussian_mixture(testset.y, *pred_mdn).mean()\n",
    "nll_mdn.item()"
   ]
  },
  {
   "cell_type": "code",
   "execution_count": null,
   "id": "521e940e-f167-4b48-9c64-a0e3cb08b94d",
   "metadata": {},
   "outputs": [],
   "source": [
    "steps = range(5, 18)\n",
    "nll_neighbour = []\n",
    "for s in steps:\n",
    "    refset = pit.PITReference(steps=s)\n",
    "    distances = euclidean_distances(testset.X, refset.X)\n",
    "    js = distances.argmin(axis=1)\n",
    "    neighbour = refset.annotation[js]\n",
    "    weight = torch.stack([neighbour[:, 0], 1 - neighbour[:, 0]], dim=1)\n",
    "    mean = torch.stack((-neighbour[:, 1] / 2, neighbour[:, 1] / 2), dim=1)\n",
    "    variance = neighbour[:, 2:]\n",
    "    nll = dist.nll_gaussian_mixture(testset.y, weight, mean, variance)\n",
    "    nll_neighbour.append(nll.mean().item())\n",
    "    print(f\"{s:2d} {nll_neighbour[-1]:f} {s ** 4}\")\n",
    "\n",
    "_, ax = plt.subplots()\n",
    "size = [s ** 4 for s in steps]\n",
    "ax.scatter(size, nll_neighbour, label=\"$k$-NN\")\n",
    "ax.axhline(nll_mdn, label=\"our MDN\")\n",
    "ax.set_xlabel(\"size of reference set\")\n",
    "ax.set_ylabel(\"NLL\")\n",
    "ax.legend()\n",
    "nll_neighbour"
   ]
  },
  {
   "cell_type": "code",
   "execution_count": null,
   "id": "2d177e6f-5e2a-4338-a7b7-0f64070165ae",
   "metadata": {},
   "outputs": [],
   "source": [
    "df = pd.DataFrame.from_dict({\"steps\": steps,\n",
    "                             \"size\": size,\n",
    "                             \"nll\": nll_neighbour})\n",
    "df = df.set_index(\"steps\")\n",
    "df.to_csv(\"data/neighbour.csv\")\n",
    "df"
   ]
  },
  {
   "cell_type": "markdown",
   "id": "ee8794f1-152c-4d84-b886-309494d7f059",
   "metadata": {},
   "source": [
    "## Uniform PIT histogram"
   ]
  },
  {
   "cell_type": "code",
   "execution_count": null,
   "id": "11281282-60ff-4b81-8920-6a8d3d2f7676",
   "metadata": {},
   "outputs": [],
   "source": [
    "pit_hist_uniform = torch.full((pit.BINS, ), 1 / pit.BINS)\n",
    "pred_uniform = method.predict(interpreter, pit_hist_uniform)\n",
    "_, ax = plt.subplots()\n",
    "plot.density(ax, dist.pdf_gaussian, label=\"data-generating\")\n",
    "plot.density(ax, param2pdf(*pred_uniform), label=\"predicted data-generating\")\n",
    "ax.legend()"
   ]
  },
  {
   "cell_type": "markdown",
   "id": "446d3265-8705-4828-bb66-fa532770e713",
   "metadata": {},
   "source": [
    "## Physicochemical Properties of *Protein* Tertiary Structure"
   ]
  },
  {
   "cell_type": "code",
   "execution_count": null,
   "id": "5c33909c-b016-45d3-838b-faf05594854d",
   "metadata": {},
   "outputs": [],
   "source": [
    "X_train, y_train = data.protein()\n",
    "X_train, X_test, y_train, y_test = model_selection.train_test_split(X_train, y_train, test_size=0.1, random_state=33)\n",
    "X_train, X_valid, y_train, y_valid = model_selection.train_test_split(X_train, y_train, test_size=0.1, random_state=79)\n",
    "X_scaler, y_scaler = preprocessing.StandardScaler(), preprocessing.StandardScaler()\n",
    "X_train = X_scaler.fit_transform(X_train)\n",
    "X_valid = X_scaler.transform(X_valid)\n",
    "y_scaler = y_scaler.fit(y_train)\n",
    "X_train, y_train = data.array2tensor(X_train), data.array2tensor(X_valid)\n",
    "X_valid, y_valid = data.array2tensor(X_valid), data.array2tensor(y_valid)\n",
    "X_train.shape, X_valid.shape"
   ]
  },
  {
   "cell_type": "code",
   "execution_count": null,
   "id": "377f9bef-cb6c-45d2-98c9-17bac5b42962",
   "metadata": {},
   "outputs": [],
   "source": [
    "def inverse_transform(y, scaler):\n",
    "    y = list(y)\n",
    "    y[-2] = (y[-2] * data.array2tensor(scaler.scale_)\n",
    "             + data.array2tensor(scaler.mean_))\n",
    "    y[-1] = y[-1] * data.array2tensor(scaler.var_)\n",
    "    return y"
   ]
  },
  {
   "cell_type": "markdown",
   "id": "9a94d743-6681-4a6f-a46d-585562ab53d4",
   "metadata": {},
   "source": [
    "### Density network"
   ]
  },
  {
   "cell_type": "code",
   "execution_count": null,
   "id": "34513099-bbc8-4ba6-9191-3cb8dc7479cb",
   "metadata": {},
   "outputs": [],
   "source": [
    "checkpoint = torch.load(\"models/driven-serenity-33.pt\")\n",
    "hyperparams = checkpoint[\"hyperparams\"]\n",
    "dn = method.MDN(inputs=9, neurons=hyperparams[\"neurons\"], components=1)\n",
    "dn.load_state_dict(checkpoint[\"model_state_dict\"])\n",
    "dn"
   ]
  },
  {
   "cell_type": "code",
   "execution_count": null,
   "id": "d8ef138c-7a61-41c0-ac9f-4a65ee9abca7",
   "metadata": {},
   "outputs": [],
   "source": [
    "y_dn = inverse_transform(method.predict(dn, X_valid)[1:], y_scaler)\n",
    "pit_hist_dn = pit.pit_hist(pit.pit_gaussian(y_valid, *y_dn))\n",
    "pred_dn = method.predict(interpreter, pit_hist_dn)\n",
    "\n",
    "_, (ax1, ax2) = plt.subplots(nrows=2)\n",
    "plot.pit_hist(ax1, pit_hist_dn, label=\"true\")\n",
    "plot.pit_hist(ax1, pit.pit_hist(pit.pit_gaussian(dist.sample_gaussian_mixture(*pred_dn))),\n",
    "              label=\"predicted\")\n",
    "ax1.legend()\n",
    "plot.density(ax2, dist.pdf_gaussian, label=\"predictive\")\n",
    "plot.density(ax2, param2pdf(*pred_dn), label=\"predicted data-generating\")\n",
    "ax2.legend()"
   ]
  },
  {
   "cell_type": "markdown",
   "id": "53d594ea-c53c-465e-8a75-4daaadffd670",
   "metadata": {},
   "source": [
    "### Deep Ensemble"
   ]
  },
  {
   "cell_type": "code",
   "execution_count": null,
   "id": "2f59e474-b704-4b65-9955-0be5b9fdf958",
   "metadata": {},
   "outputs": [],
   "source": [
    "checkpoint = torch.load(\"models/crimson-firebrand-43.pt\")\n",
    "hyperparams = checkpoint[\"hyperparams\"]\n",
    "de = method.DE(inputs=hyperparams[\"inputs\"],\n",
    "                 neurons=hyperparams[\"neurons\"],\n",
    "                 members=hyperparams[\"m\"])\n",
    "de.load_state_dict(checkpoint[\"model_state_dict\"])\n",
    "de"
   ]
  },
  {
   "cell_type": "code",
   "execution_count": null,
   "id": "0145e3ec-9a32-4d10-b6a8-70c928795420",
   "metadata": {},
   "outputs": [],
   "source": [
    "y_de = inverse_transform(method.predict(de, X_valid), y_scaler)\n",
    "pit_hist_de = pit.pit_hist(pit.pit_gaussian(y_valid, *y_de))\n",
    "pred_de = method.predict(interpreter, pit_hist_de)\n",
    "\n",
    "_, (ax1, ax2) = plt.subplots(nrows=2)\n",
    "plot.pit_hist(ax1, pit_hist_de, label=\"true\")\n",
    "plot.pit_hist(ax1, pit.pit_hist(pit.pit_gaussian(dist.sample_gaussian_mixture(*pred_de))),\n",
    "              label=\"predicted\")\n",
    "ax1.legend()\n",
    "plot.density(ax2, dist.pdf_gaussian, label=\"predictive\")\n",
    "plot.density(ax2, param2pdf(*pred_de), label=\"predicted data-generating\")\n",
    "ax2.legend()"
   ]
  },
  {
   "cell_type": "markdown",
   "id": "22fb444b-ae7b-4cde-9895-adbd81d4eb57",
   "metadata": {},
   "source": [
    "### Mixture density network"
   ]
  },
  {
   "cell_type": "code",
   "execution_count": null,
   "id": "825c3dcc-51de-4837-be33-8954d04bbbcd",
   "metadata": {},
   "outputs": [],
   "source": [
    "checkpoint = torch.load(\"models/dainty-feather-49.pt\")\n",
    "hyperparams = checkpoint[\"hyperparams\"]\n",
    "mdn = method.MDN(inputs=9, neurons=hyperparams[\"neurons\"], components=5)\n",
    "mdn.load_state_dict(checkpoint[\"model_state_dict\"])\n",
    "mdn"
   ]
  },
  {
   "cell_type": "code",
   "execution_count": null,
   "id": "c1997f90-8a19-4b6f-8502-949df4effa96",
   "metadata": {},
   "outputs": [],
   "source": [
    "y_mdn = inverse_transform(method.predict(mdn, X_valid), y_scaler)\n",
    "pit_hist_mdn = pit.pit_hist(pit.pit_gaussian_mixture(y_valid, *y_mdn))\n",
    "_, ax = plt.subplots()\n",
    "plot.pit_hist(ax, pit_hist_dn, label=\"DN\")\n",
    "plot.pit_hist(ax, pit_hist_de, label=\"DE\")\n",
    "plot.pit_hist(ax, pit_hist_mdn, label=\"MDN (m = 5)\")\n",
    "ax.legend()"
   ]
  },
  {
   "cell_type": "markdown",
   "id": "4e45abb9-b0b1-4058-b74a-10ae3f4448bd",
   "metadata": {},
   "source": [
    "## Metrics\n",
    "\n",
    "TODO: use test data."
   ]
  },
  {
   "cell_type": "code",
   "execution_count": null,
   "id": "b5a16909-88f7-4830-8ecd-1f7d0b64057e",
   "metadata": {},
   "outputs": [],
   "source": [
    "methods = [\"density network\", \"deep ensemble\", \"mixture density network\"]\n",
    "nll = [dist.nll_gaussian(y_valid, *y_dn).mean().item(),\n",
    "       dist.nll_gaussian(y_valid, *y_de).mean().item(),\n",
    "       dist.nll_gaussian_mixture(y_valid, *y_mdn).mean().item()]\n",
    "crps = [dist.crps_gaussian(y_valid, *y_dn).mean().item(),\n",
    "        dist.crps_gaussian(y_valid, *y_de).mean().item(),\n",
    "        dist.crps_gaussian_mixture(y_valid, *y_mdn).mean().item()]\n",
    "\n",
    "df = pd.DataFrame({\"method\": methods, \"nll\": nll, \"crps\": crps})\n",
    "df = df.set_index(\"method\")\n",
    "df"
   ]
  }
 ],
 "metadata": {
  "kernelspec": {
   "display_name": "Python 3 (ipykernel)",
   "language": "python",
   "name": "python3"
  },
  "language_info": {
   "codemirror_mode": {
    "name": "ipython",
    "version": 3
   },
   "file_extension": ".py",
   "mimetype": "text/x-python",
   "name": "python",
   "nbconvert_exporter": "python",
   "pygments_lexer": "ipython3",
   "version": "3.10.4"
  }
 },
 "nbformat": 4,
 "nbformat_minor": 5
}
