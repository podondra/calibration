{
 "cells": [
  {
   "cell_type": "code",
   "execution_count": null,
   "id": "3f5edb80-0f06-4b05-b092-7f8cdd953636",
   "metadata": {},
   "outputs": [],
   "source": [
    "%matplotlib widget"
   ]
  },
  {
   "cell_type": "code",
   "execution_count": null,
   "id": "133e8897-b8e9-4e87-bc6b-97ed690b1bc3",
   "metadata": {},
   "outputs": [],
   "source": [
    "import functools\n",
    "import importlib\n",
    "import math\n",
    "\n",
    "from matplotlib import pyplot as plt\n",
    "from matplotlib.patches import Ellipse\n",
    "import torch\n",
    "from torchvision import datasets\n",
    "\n",
    "from calibration import data\n",
    "from calibration import dists\n",
    "from calibration import plot\n",
    "from calibration import vae\n",
    "from calibration import utils\n",
    "from calibration import uci"
   ]
  },
  {
   "cell_type": "code",
   "execution_count": null,
   "id": "c8aee668-0879-4bf0-b4c6-3497306f96b4",
   "metadata": {},
   "outputs": [],
   "source": [
    "DEVICE = torch.device(\"cpu\")"
   ]
  },
  {
   "cell_type": "markdown",
   "id": "6359ed33-295a-4fd3-9350-d96a53c99b81",
   "metadata": {},
   "source": [
    "## Data Set"
   ]
  },
  {
   "cell_type": "code",
   "execution_count": null,
   "id": "221ede6a-e3ce-4ab7-9b13-02f414faa4e0",
   "metadata": {},
   "outputs": [],
   "source": [
    "BINS = 20\n",
    "SAMPLES = 10000"
   ]
  },
  {
   "cell_type": "code",
   "execution_count": null,
   "id": "903be8f0-6b03-4778-9824-02acbee9e97e",
   "metadata": {},
   "outputs": [],
   "source": [
    "utils.seed()\n",
    "testset = data.PITHistDataset(SAMPLES, BINS, DEVICE)\n",
    "len(testset)"
   ]
  },
  {
   "cell_type": "markdown",
   "id": "adb3d3b5-437d-47c7-b74c-d7b765fce588",
   "metadata": {},
   "source": [
    "## Variational Auto-Encoder"
   ]
  },
  {
   "cell_type": "code",
   "execution_count": null,
   "id": "07d1d1e6-0685-4fb8-8a74-7528fc6bcb84",
   "metadata": {},
   "outputs": [],
   "source": [
    "model = vae.VAE(inputs=BINS, hiddens=1, neurons=16, embeds=3, epsilon=None)\n",
    "checkpoint = torch.load(\"models/whole-snowflake-373.pt\")\n",
    "model.load_state_dict(checkpoint)\n",
    "model"
   ]
  },
  {
   "cell_type": "code",
   "execution_count": null,
   "id": "7f8df82a-0b59-4d0c-a7cd-0faf662d7d8c",
   "metadata": {},
   "outputs": [],
   "source": [
    "mu_test, sigma_test = model.encode(testset.X)\n",
    "X_pred = model.decode(mu_test)\n",
    "rec = model.loss_rec(X_pred, testset.X)"
   ]
  },
  {
   "cell_type": "markdown",
   "id": "ee8794f1-152c-4d84-b886-309494d7f059",
   "metadata": {},
   "source": [
    "### Uniform PIT histogram"
   ]
  },
  {
   "cell_type": "code",
   "execution_count": null,
   "id": "11281282-60ff-4b81-8920-6a8d3d2f7676",
   "metadata": {},
   "outputs": [],
   "source": [
    "uniform = torch.full((BINS, ), 1 / BINS)\n",
    "_, ax = plt.subplots()\n",
    "plot.pit_hist(ax, uniform, BINS, label=\"org\")\n",
    "mu_uniform, sigma_uniform = model.encode(uniform.unsqueeze(0))\n",
    "uniform_pred = model.decode(mu_uniform)\n",
    "uniform_pred = uniform_pred.squeeze()\n",
    "plot.pit_hist(ax, uniform_pred, BINS, label=\"rec\")\n",
    "ax.legend()"
   ]
  },
  {
   "cell_type": "markdown",
   "id": "446d3265-8705-4828-bb66-fa532770e713",
   "metadata": {},
   "source": [
    "### Protein Data Set"
   ]
  },
  {
   "cell_type": "code",
   "execution_count": null,
   "id": "5f6b12c8-102c-4bb8-b6f5-b6c904c5541d",
   "metadata": {},
   "outputs": [],
   "source": [
    "(_, proteinset), _ = uci.get_dataset(\"protein\", seed=50, validation=False, preparation=True)\n",
    "X_protein, y_protein = proteinset.tensors\n",
    "nn = uci.NeuralNetwork(X_protein.shape[-1], {\"loss\": \"nll\", \"neurons\": 64, \"hiddens\": 1})\n",
    "nn.load(\"nll-1-1-5432\")\n",
    "y_pred_protein = nn.predict(proteinset)\n",
    "pit_values_protein = uci.normal_pit(*y_pred_protein, y_protein.cpu()).flatten()\n",
    "pit_hist_protein = data.pit_hist(pit_values_protein, BINS)\n",
    "mu_protein, sigma_protein = model.encode(pit_hist_protein)\n",
    "\n",
    "_, ax = plt.subplots()\n",
    "plot.pit_hist(ax, pit_hist_protein, BINS, label=\"org\")\n",
    "plot.pit_hist(ax, model.decode(mu_protein.unsqueeze(0)).squeeze(), BINS, label=\"rec\")\n",
    "ax.legend()"
   ]
  },
  {
   "cell_type": "markdown",
   "id": "325b4664-0ee8-4204-b1a7-40d5b52e21df",
   "metadata": {},
   "source": [
    "### 2-D Projection"
   ]
  },
  {
   "cell_type": "code",
   "execution_count": null,
   "id": "31289197-60b4-4121-8827-9df9233c8418",
   "metadata": {},
   "outputs": [],
   "source": [
    "colors = (testset.y[:, 2] == 1.5)"
   ]
  },
  {
   "cell_type": "code",
   "execution_count": null,
   "id": "b982aa32-d101-42f3-ab26-cb102b7cff5c",
   "metadata": {},
   "outputs": [],
   "source": [
    "fig, ax, ax_pick, ax_press = plot.get_grid()\n",
    "\n",
    "for i in range(len(testset)):\n",
    "    size = 3 * sigma_test[i]\n",
    "    e = Ellipse(xy=mu_test[i], width=3 * sigma_test[i, 0], height=3 * sigma_test[i, 1])\n",
    "    ax.add_artist(e)\n",
    "    e.set_clip_box(ax.bbox)\n",
    "    e.set_alpha(0.1)\n",
    "    e.set_facecolor(\"k\")\n",
    "\n",
    "cb = ax.scatter(mu_test[:, 0], mu_test[:, 1], c=testset.y[:, 2], picker=True)\n",
    "plt.colorbar(cb)\n",
    "\n",
    "plot_fn = functools.partial(plot.pit_hist, n_bins=BINS)\n",
    "fig.canvas.mpl_connect(\"pick_event\", functools.partial(plot.on_pick, ax=ax_pick, dataset=testset, model=model, plot_fn=plot_fn))\n",
    "fig.canvas.mpl_connect(\"button_press_event\", functools.partial(plot.on_button_press, ax=ax_press, model=model, plot_fn=plot_fn))"
   ]
  },
  {
   "cell_type": "code",
   "execution_count": null,
   "id": "b077bbb1-e9fd-41ed-af96-6a4aa0b82cf2",
   "metadata": {},
   "outputs": [],
   "source": [
    "ax.scatter(mu_uniform[:, 0], mu_uniform[:, 1])\n",
    "ax.scatter(mu_protein[0], mu_protein[1])"
   ]
  },
  {
   "cell_type": "markdown",
   "id": "72e3d844-4c89-4a9f-867f-40c125141339",
   "metadata": {},
   "source": [
    "### 3-D Projection"
   ]
  },
  {
   "cell_type": "code",
   "execution_count": null,
   "id": "28be95f5-5531-4fa7-b668-7a0048e80904",
   "metadata": {},
   "outputs": [],
   "source": [
    "fig, ax, ax_pick, ax_press = plot.get_grid(projection=\"3d\")\n",
    "cb = ax.scatter(mu_test[:, 0], mu_test[:, 1], zs=mu_test[:, 2], c=testset.y[:, 2], picker=True)\n",
    "plt.colorbar(cb)\n",
    "\n",
    "plot_fn = functools.partial(plot.pit_hist, n_bins=BINS)\n",
    "fig.canvas.mpl_connect(\"pick_event\", functools.partial(plot.on_pick, ax=ax_pick, dataset=testset, model=model, plot_fn=plot_fn))"
   ]
  },
  {
   "cell_type": "code",
   "execution_count": null,
   "id": "fc211ddc-0da0-4e19-aee9-2e9f83885ea6",
   "metadata": {},
   "outputs": [],
   "source": [
    "ax.scatter(mu_uniform[:, 0], mu_uniform[:, 1], zs=mu_uniform[:, 2])\n",
    "ax.scatter(mu_protein[0], mu_protein[1], zs=mu_protein[2])"
   ]
  },
  {
   "cell_type": "markdown",
   "id": "f3e75c5a-6364-4e80-b6e2-8437c7b43177",
   "metadata": {},
   "source": [
    "### Reconstructions"
   ]
  },
  {
   "cell_type": "code",
   "execution_count": null,
   "id": "d5af52c5-0861-402a-9c7c-67ee7e3bdf97",
   "metadata": {
    "scrolled": true
   },
   "outputs": [],
   "source": [
    "domain = torch.linspace(-4, 4, 128)\n",
    "for i, (x, y) in enumerate(testset):\n",
    "    _, (ax1, ax2) = plt.subplots(nrows=2)\n",
    "    plot.pit_hist(ax1, x, BINS, label=\"orig\")\n",
    "    plot.pit_hist(ax1, X_pred[i], BINS, label=\"rec\")\n",
    "    ax1.legend()\n",
    "    dist_pred, dist_true = data.label2dists(*y)\n",
    "    ax2.plot(domain, dist_pred.pdf(domain), label=\"predictive\")\n",
    "    ax2.plot(domain, dist_true.pdf(domain))\n",
    "    ax2.legend()"
   ]
  },
  {
   "cell_type": "markdown",
   "id": "ab76f564-4af5-4aff-a787-3cac6830bd25",
   "metadata": {},
   "source": [
    "## Nearest Neigbours"
   ]
  },
  {
   "cell_type": "markdown",
   "id": "b5bcd36e-ab3e-4ea2-9e40-f2caa6140e34",
   "metadata": {},
   "source": [
    "### Original Space"
   ]
  },
  {
   "cell_type": "code",
   "execution_count": null,
   "id": "639d9bc5-6d1b-4fed-9803-0a7d45b91c5e",
   "metadata": {},
   "outputs": [],
   "source": [
    "from sklearn.metrics.pairwise import euclidean_distances"
   ]
  },
  {
   "cell_type": "code",
   "execution_count": null,
   "id": "2b8d2458-9067-45c8-99a6-fd7a078bb615",
   "metadata": {},
   "outputs": [],
   "source": [
    "dist = euclidean_distances(testset.X, pit_hist_protein.unsqueeze(0))\n",
    "i = dist.argmin()\n",
    "i, dist.min()"
   ]
  },
  {
   "cell_type": "code",
   "execution_count": null,
   "id": "693ccffc-ffb1-425e-b44c-ca9d7683752e",
   "metadata": {},
   "outputs": [],
   "source": [
    "testset.y[i]"
   ]
  },
  {
   "cell_type": "code",
   "execution_count": null,
   "id": "dee19cab-d753-4e46-8c8b-894cbca9cca0",
   "metadata": {},
   "outputs": [],
   "source": [
    "dist_pred, dist_true = data.label2dists(*testset.y[i])\n",
    "dist_pred, dist_true"
   ]
  },
  {
   "cell_type": "code",
   "execution_count": null,
   "id": "5ced642b-9581-42e6-b6d9-45da9dd09e76",
   "metadata": {},
   "outputs": [],
   "source": [
    "_, (ax, ax2) = plt.subplots(nrows=2)\n",
    "plot.pit_hist(ax, pit_hist_protein, BINS, label=\"protein\")\n",
    "plot.pit_hist(ax, testset.X[i], BINS, label=\"nearest\")\n",
    "ax.legend()\n",
    "domain = torch.linspace(-4, 4, 128)\n",
    "ax2.plot(domain, dist_pred.pdf(domain), label=\"predictive\")\n",
    "ax2.plot(domain, dist_true.pdf(domain))\n",
    "ax2.legend()"
   ]
  }
 ],
 "metadata": {
  "kernelspec": {
   "display_name": "Python 3 (ipykernel)",
   "language": "python",
   "name": "python3"
  },
  "language_info": {
   "codemirror_mode": {
    "name": "ipython",
    "version": 3
   },
   "file_extension": ".py",
   "mimetype": "text/x-python",
   "name": "python",
   "nbconvert_exporter": "python",
   "pygments_lexer": "ipython3",
   "version": "3.10.4"
  }
 },
 "nbformat": 4,
 "nbformat_minor": 5
}
