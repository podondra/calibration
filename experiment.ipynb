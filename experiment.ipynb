{
 "cells": [
  {
   "cell_type": "code",
   "execution_count": null,
   "id": "5e2b9cc4-4b87-4333-8c82-d2a03aab5255",
   "metadata": {},
   "outputs": [],
   "source": [
    "import functools\n",
    "import importlib\n",
    "import math\n",
    "\n",
    "from matplotlib import pyplot as plt\n",
    "from matplotlib.patches import Ellipse\n",
    "import numpy as np\n",
    "import pandas as pd\n",
    "from scipy.stats import multivariate_normal\n",
    "from sklearn.metrics.pairwise import euclidean_distances\n",
    "import torch\n",
    "\n",
    "from calibration import data\n",
    "from calibration import dists\n",
    "from calibration import plot\n",
    "from calibration import vae\n",
    "from calibration import utils\n",
    "from calibration import uci"
   ]
  },
  {
   "cell_type": "markdown",
   "id": "6359ed33-295a-4fd3-9350-d96a53c99b81",
   "metadata": {},
   "source": [
    "## Data Set"
   ]
  },
  {
   "cell_type": "code",
   "execution_count": null,
   "id": "7381b0d8-1b52-4441-9752-072052afffea",
   "metadata": {},
   "outputs": [],
   "source": [
    "BINS = 20\n",
    "SAMPLES = 10000"
   ]
  },
  {
   "cell_type": "code",
   "execution_count": null,
   "id": "22f63ce3-9216-419b-8ba9-cafac1fdf169",
   "metadata": {},
   "outputs": [],
   "source": [
    "utils.seed()\n",
    "refset = data.PITHistDataset(SAMPLES, BINS)\n",
    "len(refset)"
   ]
  },
  {
   "cell_type": "code",
   "execution_count": null,
   "id": "e2ba7ee4-028c-48d8-99e3-f6260815d943",
   "metadata": {
    "scrolled": true
   },
   "outputs": [],
   "source": [
    "for x, y in refset:\n",
    "    _, (ax1, ax2) = plt.subplots(nrows=2)\n",
    "    plot.pit_hist(ax1, x, BINS)\n",
    "    plot.dists(ax2, *data.y2dists(*y))\n",
    "    plt.show()\n",
    "    plt.close()"
   ]
  },
  {
   "cell_type": "markdown",
   "id": "adb3d3b5-437d-47c7-b74c-d7b765fce588",
   "metadata": {},
   "source": [
    "## Variational Auto-Encoder"
   ]
  },
  {
   "cell_type": "code",
   "execution_count": null,
   "id": "d9aec742-989a-47ea-9257-c2a217656d76",
   "metadata": {},
   "outputs": [],
   "source": [
    "checkpoint = torch.load(\"models/decent-tree-636.pt\")\n",
    "hyperparams = checkpoint[\"hyperparams\"]\n",
    "model = vae.VAE(inputs=hyperparams[\"bins\"],\n",
    "                neurons=hyperparams[\"neurons\"],\n",
    "                latents=hyperparams[\"latents\"],\n",
    "                beta=hyperparams[\"beta\"])\n",
    "model.load_state_dict(checkpoint[\"model_state_dict\"])\n",
    "model"
   ]
  },
  {
   "cell_type": "code",
   "execution_count": null,
   "id": "190f76e6-5ef0-4581-b918-52094fb28679",
   "metadata": {},
   "outputs": [],
   "source": [
    "with torch.no_grad():\n",
    "    mu_z, ln_var_z = model.encoder(refset.X)\n",
    "    mu_x, ln_var_x = model.decoder(mu_z)"
   ]
  },
  {
   "cell_type": "code",
   "execution_count": null,
   "id": "27584512-2484-4e3b-ab90-be387811da28",
   "metadata": {},
   "outputs": [],
   "source": [
    "ln_pxz = vae.likelihood(mu_x, ln_var_x, refset.X)"
   ]
  },
  {
   "cell_type": "markdown",
   "id": "6d4d6a7d-2b88-4ba5-a2e6-234be3a68add",
   "metadata": {},
   "source": [
    "### Reconstructions"
   ]
  },
  {
   "cell_type": "code",
   "execution_count": null,
   "id": "d5af52c5-0861-402a-9c7c-67ee7e3bdf97",
   "metadata": {
    "scrolled": true
   },
   "outputs": [],
   "source": [
    "for i in ln_pxz.argsort(descending=False):\n",
    "    x, y = refset[i]\n",
    "    _, (ax1, ax2) = plt.subplots(nrows=2)\n",
    "    ax1.set_title(f\"{i}: {ln_pxz[i].item()}\")\n",
    "    plot.pit_hist(ax1, x, BINS, label=\"original\")\n",
    "    plot.pit_hist(ax1, mu_x[i], BINS)\n",
    "    ax1.legend()\n",
    "    plot.dists(ax2, *data.y2dists(*y))\n",
    "    plt.show()\n",
    "    plt.close()"
   ]
  },
  {
   "cell_type": "markdown",
   "id": "ee8794f1-152c-4d84-b886-309494d7f059",
   "metadata": {},
   "source": [
    "### Uniform PIT histogram"
   ]
  },
  {
   "cell_type": "code",
   "execution_count": null,
   "id": "11281282-60ff-4b81-8920-6a8d3d2f7676",
   "metadata": {},
   "outputs": [],
   "source": [
    "uniform = torch.full((BINS, ), 1 / BINS)\n",
    "z_uniform, _ = model.encoder(uniform)\n",
    "x_uniform, _ = model.decode(z_uniform)\n",
    "_, ax = plt.subplots()\n",
    "plot.pit_hist(ax, uniform, BINS, label=\"original\")\n",
    "plot.pit_hist(ax, x_uniform, BINS)\n",
    "ax.legend()"
   ]
  },
  {
   "cell_type": "markdown",
   "id": "446d3265-8705-4828-bb66-fa532770e713",
   "metadata": {},
   "source": [
    "### Protein Data Set"
   ]
  },
  {
   "cell_type": "code",
   "execution_count": null,
   "id": "5f6b12c8-102c-4bb8-b6f5-b6c904c5541d",
   "metadata": {},
   "outputs": [],
   "source": [
    "(_, proteinset), _ = uci.get_dataset(\"protein\", seed=50, validation=False, preparation=True)\n",
    "X_protein, y_protein = proteinset.tensors\n",
    "nn = uci.NeuralNetwork(X_protein.shape[-1], {\"loss\": \"nll\", \"neurons\": 64, \"hiddens\": 1})\n",
    "nn.load(\"nll-1-1-5432\")\n",
    "y_pred_protein = nn.predict(proteinset)\n",
    "pit_values_protein = uci.normal_pit(*y_pred_protein, y_protein.cpu()).squeeze()\n",
    "pit_hist_protein = data.pit_hist(pit_values_protein, BINS)\n",
    "z_protein, _ = model.encode(pit_hist_protein)\n",
    "mu_protein, _ = model.decode(z_protein)\n",
    "_, ax = plt.subplots()\n",
    "plot.pit_hist(ax, pit_hist_protein, BINS, label=\"original\")\n",
    "plot.pit_hist(ax, mu_protein, BINS)\n",
    "ax.legend()"
   ]
  },
  {
   "cell_type": "markdown",
   "id": "72e3d844-4c89-4a9f-867f-40c125141339",
   "metadata": {},
   "source": [
    "### 3-D Projection"
   ]
  },
  {
   "cell_type": "code",
   "execution_count": null,
   "id": "3f5edb80-0f06-4b05-b092-7f8cdd953636",
   "metadata": {},
   "outputs": [],
   "source": [
    "%matplotlib widget"
   ]
  },
  {
   "cell_type": "code",
   "execution_count": null,
   "id": "28be95f5-5531-4fa7-b668-7a0048e80904",
   "metadata": {},
   "outputs": [],
   "source": [
    "fig, ax, ax_pick, ax_press = plot.get_grid(projection=\"3d\")\n",
    "cb = ax.scatter(mu_z[:, 0], mu_z[:, 1], zs=mu_z[:, 2], c=refset.y[:, 2], picker=True)\n",
    "plt.colorbar(cb)\n",
    "plot_fn = functools.partial(plot.pit_hist, n_bins=BINS)\n",
    "fig.canvas.mpl_connect(\"pick_event\", functools.partial(plot.on_pick, ax=ax_pick, dataset=refset, model=model, plot_fn=plot_fn))"
   ]
  },
  {
   "cell_type": "markdown",
   "id": "ab76f564-4af5-4aff-a787-3cac6830bd25",
   "metadata": {},
   "source": [
    "## Nearest Neigbours"
   ]
  },
  {
   "cell_type": "code",
   "execution_count": null,
   "id": "d8c96f37-c98d-4079-85be-63706032b5e9",
   "metadata": {},
   "outputs": [],
   "source": [
    "utils.seed(71)\n",
    "testset = data.PITHistDataset(100, BINS)\n",
    "\n",
    "js = euclidean_distances(testset.X, refset.X).argmin(axis=1)\n",
    "for j, (x, y) in zip(js, testset):\n",
    "    mu, sigma = model.encode(x)\n",
    "    p = multivariate_normal.pdf(mu_z, mu, sigma ** 2)\n",
    "    _, (ax1, ax2) = plt.subplots(nrows=2)\n",
    "    plot.pit_hist(ax1, x, BINS)\n",
    "    plot.pdf(ax2, data.y2dists(*y)[1])\n",
    "    plot.pdf(ax2, data.y2dists(*refset.y[j])[1], linestyle=\"dotted\", label=\"original\")\n",
    "    plot.pdf(ax2, data.y2dists(*refset.y[p.argmax()])[1], linestyle=\"dashed\", label=\"latent\")\n",
    "    ax2.legend()\n",
    "    plt.show()\n",
    "    plt.close()"
   ]
  }
 ],
 "metadata": {
  "kernelspec": {
   "display_name": "Python 3 (ipykernel)",
   "language": "python",
   "name": "python3"
  },
  "language_info": {
   "codemirror_mode": {
    "name": "ipython",
    "version": 3
   },
   "file_extension": ".py",
   "mimetype": "text/x-python",
   "name": "python",
   "nbconvert_exporter": "python",
   "pygments_lexer": "ipython3",
   "version": "3.10.4"
  }
 },
 "nbformat": 4,
 "nbformat_minor": 5
}
