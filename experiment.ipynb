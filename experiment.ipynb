{
 "cells": [
  {
   "cell_type": "markdown",
   "id": "97b0ce48-6442-4850-a85f-7e7ef95feea7",
   "metadata": {},
   "source": [
    "# Calibration"
   ]
  },
  {
   "cell_type": "code",
   "execution_count": null,
   "id": "5e2b9cc4-4b87-4333-8c82-d2a03aab5255",
   "metadata": {},
   "outputs": [],
   "source": [
    "from matplotlib import pyplot as plt\n",
    "import pandas as pd\n",
    "from sklearn.metrics.pairwise import euclidean_distances\n",
    "import torch\n",
    "import wandb\n",
    "\n",
    "from calibration import data\n",
    "from calibration import dist\n",
    "from calibration import method\n",
    "from calibration import pit\n",
    "from calibration import plot"
   ]
  },
  {
   "cell_type": "code",
   "execution_count": null,
   "id": "465f3a40-2875-407a-84e5-44a2cab8fe53",
   "metadata": {},
   "outputs": [],
   "source": [
    "def param2pdf(weight, mean, variance):\n",
    "    return lambda x: dist.pdf_gaussian_mixture(x, weight, mean, variance)\n",
    "\n",
    "def y2pdf(w, s, v1, v2):\n",
    "    weight = torch.tensor([w, 1 - w])\n",
    "    mean = torch.tensor([-s / 2, s / 2])\n",
    "    variance = torch.tensor([v1, v2])\n",
    "    return param2pdf(weight, mean, variance)"
   ]
  },
  {
   "cell_type": "markdown",
   "id": "2eda3670-2e75-4025-b5ef-82e56433b7c5",
   "metadata": {},
   "source": [
    "## Interpreter"
   ]
  },
  {
   "cell_type": "code",
   "execution_count": null,
   "id": "f6abe712-cd0a-4182-ad61-550171064cf9",
   "metadata": {},
   "outputs": [],
   "source": [
    "checkpoint = torch.load(\"models/light-aardvark-162.pt\")\n",
    "hyperparams = checkpoint[\"hyperparams\"]\n",
    "interpreter = method.MDN(inputs=hyperparams[\"bins\"],\n",
    "                neurons=hyperparams[\"neurons\"],\n",
    "                components=hyperparams[\"components\"])\n",
    "interpreter.load_state_dict(checkpoint[\"model_state_dict\"])\n",
    "interpreter"
   ]
  },
  {
   "cell_type": "markdown",
   "id": "6359ed33-295a-4fd3-9350-d96a53c99b81",
   "metadata": {},
   "source": [
    "## Synthetic data set"
   ]
  },
  {
   "cell_type": "code",
   "execution_count": null,
   "id": "22f63ce3-9216-419b-8ba9-cafac1fdf169",
   "metadata": {},
   "outputs": [],
   "source": [
    "TESTS = 1000\n",
    "torch.manual_seed(78)\n",
    "testset = pit.PITDataset(TESTS)"
   ]
  },
  {
   "cell_type": "code",
   "execution_count": null,
   "id": "7a34fb8d-fa51-4796-9740-f5ce3a2aa709",
   "metadata": {},
   "outputs": [],
   "source": [
    "refset = pit.PITReference()\n",
    "len(refset)"
   ]
  },
  {
   "cell_type": "code",
   "execution_count": null,
   "id": "99b54034-9093-4c89-a598-530c749f160b",
   "metadata": {},
   "outputs": [],
   "source": [
    "pred_mdn = method.predict(interpreter, testset.X)"
   ]
  },
  {
   "cell_type": "code",
   "execution_count": null,
   "id": "07f4d5d3-d362-40a2-983e-ee276914df8a",
   "metadata": {},
   "outputs": [],
   "source": [
    "distances = euclidean_distances(testset.X, refset.X)\n",
    "js = distances.argmin(axis=1)\n",
    "for y, weight, mean, variance, neighbour in zip(testset.annotation,\n",
    "                                          *pred_mdn,\n",
    "                                          refset.annotation[js]):\n",
    "    _, ax = plt.subplots()\n",
    "    plot.density(ax, y2pdf(*y), label=\"data generating\")\n",
    "    plot.density(ax, param2pdf(weight, mean, variance), label=\"MDN\")\n",
    "    plot.density(ax, y2pdf(*neighbour), label=\"nearest neighbor\")\n",
    "    ax.legend()\n",
    "    plt.show()\n",
    "    plt.close()\n",
    "    break"
   ]
  },
  {
   "cell_type": "code",
   "execution_count": null,
   "id": "c1ba470f-68c9-4a0e-81f8-5765dca510a7",
   "metadata": {},
   "outputs": [],
   "source": [
    "nll_mdn = dist.nll_gaussian_mixture(testset.y, *pred_mdn).mean()\n",
    "nll_mdn.item()"
   ]
  },
  {
   "cell_type": "code",
   "execution_count": null,
   "id": "521e940e-f167-4b48-9c64-a0e3cb08b94d",
   "metadata": {},
   "outputs": [],
   "source": [
    "steps = range(5, 18)\n",
    "nll_neighbour = []\n",
    "for s in steps:\n",
    "    refset = pit.PITReference(steps=s)\n",
    "    distances = euclidean_distances(testset.X, refset.X)\n",
    "    js = distances.argmin(axis=1)\n",
    "    neighbour = refset.annotation[js]\n",
    "    weight = torch.stack([neighbour[:, 0], 1 - neighbour[:, 0]], dim=1)\n",
    "    mean = torch.stack((-neighbour[:, 1] / 2, neighbour[:, 1] / 2), dim=1)\n",
    "    variance = neighbour[:, 2:]\n",
    "    nll = dist.nll_gaussian_mixture(testset.y, weight, mean, variance)\n",
    "    nll_neighbour.append(nll.mean().item())\n",
    "    print(f\"{s:2d} {nll_neighbour[-1]:f} {s ** 4}\")\n",
    "\n",
    "_, ax = plt.subplots()\n",
    "size = [s ** 4 for s in steps]\n",
    "ax.scatter(size, nll_neighbour, label=\"$k$-NN\")\n",
    "ax.axhline(nll_mdn, label=\"our MDN\")\n",
    "ax.set_xlabel(\"size of reference set\")\n",
    "ax.set_ylabel(\"NLL\")\n",
    "ax.legend()\n",
    "nll_neighbour"
   ]
  },
  {
   "cell_type": "code",
   "execution_count": null,
   "id": "2d177e6f-5e2a-4338-a7b7-0f64070165ae",
   "metadata": {},
   "outputs": [],
   "source": [
    "df = pd.DataFrame.from_dict({\"steps\": steps,\n",
    "                             \"size\": size,\n",
    "                             \"nll\": nll_neighbour})\n",
    "df = df.set_index(\"steps\")\n",
    "df.to_csv(\"data/neighbour.csv\")\n",
    "df"
   ]
  },
  {
   "cell_type": "markdown",
   "id": "ee8794f1-152c-4d84-b886-309494d7f059",
   "metadata": {},
   "source": [
    "## Uniform PIT histogram"
   ]
  },
  {
   "cell_type": "code",
   "execution_count": null,
   "id": "11281282-60ff-4b81-8920-6a8d3d2f7676",
   "metadata": {},
   "outputs": [],
   "source": [
    "pit_hist_uniform = torch.full((pit.BINS, ), 1.0 / pit.BINS)\n",
    "pred_uniform = method.predict(interpreter, pit_hist_uniform)\n",
    "_, ax = plt.subplots()\n",
    "plot.density(ax, dist.pdf_gaussian, label=\"data-generating\")\n",
    "plot.density(ax, param2pdf(*pred_uniform), label=\"predicted data-generating\")\n",
    "ax.legend()"
   ]
  },
  {
   "cell_type": "code",
   "execution_count": null,
   "id": "f1d2a175-97e0-457b-9cef-9b55f4c553b1",
   "metadata": {},
   "outputs": [],
   "source": [
    "_, ax = plt.subplots()\n",
    "plot.pit_hist(ax, pit_hist_uniform)"
   ]
  },
  {
   "cell_type": "markdown",
   "id": "fb892d67-3b39-43b2-b4a1-9f3921cbab2b",
   "metadata": {},
   "source": [
    "## UCI ML repository data sets\n",
    "\n",
    "TODO list:\n",
    "1. what hyperparameters to use?\n",
    "1. other methods: MC dropout?, concrete dropout?, Gaussian processes?"
   ]
  },
  {
   "cell_type": "code",
   "execution_count": null,
   "id": "ed24af42-6435-4d8a-8478-bf370825c303",
   "metadata": {},
   "outputs": [],
   "source": [
    "def load_model(modelfile, Model, keys):\n",
    "    checkpoint = torch.load(modelfile)\n",
    "    hyperparams = checkpoint[\"hyperparams\"]\n",
    "    model = Model(*[hyperparams[k] for k in (\"inputs\", \"neurons\") + keys])\n",
    "    model.load_state_dict(checkpoint[\"model_state_dict\"])\n",
    "    return model\n",
    "\n",
    "def load_mdn(modelfile):\n",
    "    return load_model(modelfile, method.MDN, (\"components\", ))\n",
    "\n",
    "def load_dn(modelfile):\n",
    "    return load_mdn(modelfile)\n",
    "\n",
    "def load_de(modelfile):\n",
    "    return load_model(modelfile, method.DE, (\"members\", ))\n",
    "\n",
    "def plot_interpretation(ax, interpretation):\n",
    "    plot.density(ax, dist.pdf_gaussian, label=\"predictive\")\n",
    "    plot.density(ax, param2pdf(*interpretation), label=\"predicted data-generating\")\n",
    "    ax.legend()\n",
    "\n",
    "def pit_hist(model, dataset):\n",
    "    alpha, mu, sigma = method.predict(model, dataset.X)\n",
    "    pit_values = pit.pit_gaussian_mixture(dataset.y, alpha, mu, sigma)\n",
    "    return pit.pit_hist(pit_values)\n",
    "\n",
    "def diagnose(pit_hist, interpreter=interpreter):\n",
    "    interpretation = method.predict(interpreter, pit_hist)\n",
    "    pit_hist_interpreter = pit.pit_hist(pit.pit_gaussian(dist.sample_gaussian_mixture(*interpretation)))\n",
    "    _, (ax1, ax2) = plt.subplots(nrows=2)\n",
    "    plot_interpretation(ax1, interpretation)\n",
    "    plot.pit_hist(ax2, pit_hist, label=\"true\")\n",
    "    plot.pit_hist(ax2, pit_hist_interpreter, label=\"predicted\")\n",
    "    ax2.legend()"
   ]
  },
  {
   "cell_type": "markdown",
   "id": "6ad565a5-d0c0-44ee-8dd7-263c7bd44e67",
   "metadata": {},
   "source": [
    "### Metrics"
   ]
  },
  {
   "cell_type": "code",
   "execution_count": null,
   "id": "244c6f87-97ca-4004-afa7-57e4d2dc1f27",
   "metadata": {},
   "outputs": [],
   "source": [
    "api = wandb.Api()\n",
    "runs = api.runs(\"podondra/calibration\")\n",
    "\n",
    "keys = [\"dataname\", \"seed\", \"method\", \"neurons\", \"lr\", \"patience\"]\n",
    "dicts, names = [], []\n",
    "for run in runs:\n",
    "    try:\n",
    "        dictionary = {k: run.config[k] for k in keys}\n",
    "        dictionary[\"nll\"] = run.summary[\"test.nll\"]\n",
    "        dictionary[\"crps\"] = run.summary[\"test.crps\"]\n",
    "    except KeyError:\n",
    "        continue\n",
    "    dicts.append(dictionary)\n",
    "    names.append(run.name)\n",
    "\n",
    "df = pd.DataFrame(data=dicts, index=names)\n",
    "df"
   ]
  },
  {
   "cell_type": "code",
   "execution_count": null,
   "id": "ad7ebd1a-903b-41ef-b5d6-767f72ee7a8d",
   "metadata": {},
   "outputs": [],
   "source": [
    "gdf = df.groupby([\"dataname\", \"method\"])"
   ]
  },
  {
   "cell_type": "code",
   "execution_count": null,
   "id": "c6bc8a08-17be-4060-9492-33ca74b49961",
   "metadata": {},
   "outputs": [],
   "source": [
    "gdf[\"nll\"].agg([\"mean\", \"sem\"])"
   ]
  },
  {
   "cell_type": "code",
   "execution_count": null,
   "id": "98ca5692-47f4-49ae-8507-9db9195fb257",
   "metadata": {},
   "outputs": [],
   "source": [
    "gdf[\"crps\"].agg([\"mean\", \"sem\"])"
   ]
  },
  {
   "cell_type": "markdown",
   "id": "190567e8-67ae-415c-b5ab-344194326a77",
   "metadata": {},
   "source": [
    "### Power"
   ]
  },
  {
   "cell_type": "code",
   "execution_count": null,
   "id": "889be7bf-0986-4c54-a804-651278a0ae2f",
   "metadata": {},
   "outputs": [],
   "source": [
    "_, _, powerset = data.split(*data.power(), seed=4)"
   ]
  },
  {
   "cell_type": "code",
   "execution_count": null,
   "id": "4d72b4a9-6db9-4cbf-af7c-df7e65dc42b3",
   "metadata": {},
   "outputs": [],
   "source": [
    "pit_hist_dn_power = pit_hist(load_dn(\"models/wise-glitter-174.pt\"), powerset)\n",
    "diagnose(pit_hist_dn_power)"
   ]
  },
  {
   "cell_type": "code",
   "execution_count": null,
   "id": "c5490097-ae7c-4743-b09b-24c1403c3b07",
   "metadata": {},
   "outputs": [],
   "source": [
    "pit_hist_de_power = pit_hist(load_de(\"models/major-sunset-175.pt\"), powerset)\n",
    "diagnose(pit_hist_de_power)"
   ]
  },
  {
   "cell_type": "code",
   "execution_count": null,
   "id": "0aa87949-ed28-4292-a599-b4f659377a5c",
   "metadata": {},
   "outputs": [],
   "source": [
    "pit_hist_mdn_power = pit_hist(load_mdn(\"models/smooth-universe-176.pt\"), powerset)\n",
    "plot.pit_hist(plt.subplots()[1], pit_hist_mdn_power)"
   ]
  },
  {
   "cell_type": "markdown",
   "id": "446d3265-8705-4828-bb66-fa532770e713",
   "metadata": {},
   "source": [
    "### Protein"
   ]
  },
  {
   "cell_type": "code",
   "execution_count": null,
   "id": "c0228bb7-4186-43ac-b3b4-3534d6c7484d",
   "metadata": {},
   "outputs": [],
   "source": [
    "_, _, proteinset = data.split(*data.protein(), seed=4)"
   ]
  },
  {
   "cell_type": "code",
   "execution_count": null,
   "id": "231a5c33-fce2-40a5-a8ef-1cb343fe129a",
   "metadata": {},
   "outputs": [],
   "source": [
    "pit_hist_dn_protein = pit_hist(load_dn(\"models/denim-dust-171.pt\"), proteinset)\n",
    "diagnose(pit_hist_dn_protein)"
   ]
  },
  {
   "cell_type": "code",
   "execution_count": null,
   "id": "7476121e-3655-484a-983e-2fa378dbb755",
   "metadata": {},
   "outputs": [],
   "source": [
    "pit_hist_de_protein = pit_hist(load_de(\"models/upbeat-sound-173.pt\"), proteinset)\n",
    "diagnose(pit_hist_de_protein)"
   ]
  },
  {
   "cell_type": "code",
   "execution_count": null,
   "id": "e289945d-4005-40d5-834e-10bec6a7dcad",
   "metadata": {},
   "outputs": [],
   "source": [
    "pit_hist_mdn_protein = pit_hist(load_mdn(\"models/fanciful-water-172.pt\"), proteinset)\n",
    "plot.pit_hist(plt.subplots()[1], pit_hist_mdn_protein)"
   ]
  },
  {
   "cell_type": "markdown",
   "id": "71fde502-0742-41e3-8426-2e9021107c1a",
   "metadata": {},
   "source": [
    "### Year"
   ]
  },
  {
   "cell_type": "code",
   "execution_count": null,
   "id": "78fae5e7-43cc-4b86-9d73-9f9f1fcbb003",
   "metadata": {},
   "outputs": [],
   "source": [
    "_, _, yearset = data.split(*data.year(), seed=4)"
   ]
  },
  {
   "cell_type": "code",
   "execution_count": null,
   "id": "d716b2c2-789c-4340-baf7-ef4b64851e28",
   "metadata": {},
   "outputs": [],
   "source": [
    "pit_hist_dn_year = pit_hist(load_dn(\"models/lunar-plant-177.pt\"), yearset)\n",
    "diagnose(pit_hist_dn_year)"
   ]
  },
  {
   "cell_type": "code",
   "execution_count": null,
   "id": "b65bb14a-d2f2-40c9-8995-b6daac0ed6b9",
   "metadata": {},
   "outputs": [],
   "source": [
    "pit_hist_de_year = pit_hist(load_de(\"models/lemon-eon-178.pt\"), yearset)\n",
    "diagnose(pit_hist_de_year)"
   ]
  },
  {
   "cell_type": "code",
   "execution_count": null,
   "id": "c096292f-0956-4a8d-be44-5a2b7208c534",
   "metadata": {},
   "outputs": [],
   "source": [
    "pit_hist_mdn_year = pit_hist(load_mdn(\"models/swept-moon-179.pt\"), yearset)\n",
    "plot.pit_hist(plt.subplots()[1], pit_hist_mdn_year)"
   ]
  }
 ],
 "metadata": {
  "kernelspec": {
   "display_name": "Python 3 (ipykernel)",
   "language": "python",
   "name": "python3"
  },
  "language_info": {
   "codemirror_mode": {
    "name": "ipython",
    "version": 3
   },
   "file_extension": ".py",
   "mimetype": "text/x-python",
   "name": "python",
   "nbconvert_exporter": "python",
   "pygments_lexer": "ipython3",
   "version": "3.10.4"
  }
 },
 "nbformat": 4,
 "nbformat_minor": 5
}
