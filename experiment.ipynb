{
 "cells": [
  {
   "cell_type": "markdown",
   "id": "97b0ce48-6442-4850-a85f-7e7ef95feea7",
   "metadata": {},
   "source": [
    "# Calibration"
   ]
  },
  {
   "cell_type": "code",
   "execution_count": null,
   "id": "5e2b9cc4-4b87-4333-8c82-d2a03aab5255",
   "metadata": {},
   "outputs": [],
   "source": [
    "from matplotlib import pyplot as plt\n",
    "import pandas as pd\n",
    "from sklearn.model_selection import train_test_split\n",
    "from sklearn.preprocessing import StandardScaler\n",
    "from sklearn.metrics.pairwise import euclidean_distances\n",
    "import torch\n",
    "import wandb\n",
    "\n",
    "from calibration import data\n",
    "from calibration import dist\n",
    "from calibration import method\n",
    "from calibration import pit\n",
    "from calibration import plot"
   ]
  },
  {
   "cell_type": "code",
   "execution_count": null,
   "id": "465f3a40-2875-407a-84e5-44a2cab8fe53",
   "metadata": {},
   "outputs": [],
   "source": [
    "def param2pdf(weight, mean, variance):\n",
    "    return lambda x: dist.pdf_gaussian_mixture(x, weight, mean, variance)\n",
    "\n",
    "def y2pdf(w, s, v1, v2):\n",
    "    weight = torch.tensor([w, 1 - w])\n",
    "    mean = torch.tensor([-s / 2, s / 2])\n",
    "    variance = torch.tensor([v1, v2])\n",
    "    return param2pdf(weight, mean, variance)"
   ]
  },
  {
   "cell_type": "markdown",
   "id": "2eda3670-2e75-4025-b5ef-82e56433b7c5",
   "metadata": {},
   "source": [
    "## Interpreter"
   ]
  },
  {
   "cell_type": "code",
   "execution_count": null,
   "id": "f6abe712-cd0a-4182-ad61-550171064cf9",
   "metadata": {},
   "outputs": [],
   "source": [
    "checkpoint = torch.load(\"models/skilled-monkey-956.pt\")\n",
    "hyperparams = checkpoint[\"hyperparams\"]\n",
    "interpreter = method.MDN(inputs=hyperparams[\"bins\"],\n",
    "                neurons=hyperparams[\"neurons\"],\n",
    "                components=hyperparams[\"m\"])\n",
    "interpreter.load_state_dict(checkpoint[\"model_state_dict\"])\n",
    "interpreter"
   ]
  },
  {
   "cell_type": "markdown",
   "id": "6359ed33-295a-4fd3-9350-d96a53c99b81",
   "metadata": {
    "jp-MarkdownHeadingCollapsed": true
   },
   "source": [
    "## Synthetic data set"
   ]
  },
  {
   "cell_type": "code",
   "execution_count": null,
   "id": "22f63ce3-9216-419b-8ba9-cafac1fdf169",
   "metadata": {},
   "outputs": [],
   "source": [
    "TESTS = 1000\n",
    "torch.manual_seed(78)\n",
    "testset = pit.PITDataset(TESTS)"
   ]
  },
  {
   "cell_type": "code",
   "execution_count": null,
   "id": "7a34fb8d-fa51-4796-9740-f5ce3a2aa709",
   "metadata": {},
   "outputs": [],
   "source": [
    "refset = pit.PITReference()\n",
    "len(refset)"
   ]
  },
  {
   "cell_type": "code",
   "execution_count": null,
   "id": "99b54034-9093-4c89-a598-530c749f160b",
   "metadata": {},
   "outputs": [],
   "source": [
    "pred_mdn = method.predict(interpreter, testset.X)"
   ]
  },
  {
   "cell_type": "code",
   "execution_count": null,
   "id": "07f4d5d3-d362-40a2-983e-ee276914df8a",
   "metadata": {
    "scrolled": true
   },
   "outputs": [],
   "source": [
    "distances = euclidean_distances(testset.X, refset.X)\n",
    "js = distances.argmin(axis=1)\n",
    "for y, weight, mean, variance, neighbour in zip(testset.annotation,\n",
    "                                          *pred_mdn,\n",
    "                                          refset.annotation[js]):\n",
    "    _, ax = plt.subplots()\n",
    "    plot.density(ax, y2pdf(*y), label=\"data generating\")\n",
    "    plot.density(ax, param2pdf(weight, mean, variance), label=\"MDN\")\n",
    "    plot.density(ax, y2pdf(*neighbour), label=\"nearest neighbor\")\n",
    "    ax.legend()\n",
    "    plt.show()\n",
    "    plt.close()"
   ]
  },
  {
   "cell_type": "code",
   "execution_count": null,
   "id": "c1ba470f-68c9-4a0e-81f8-5765dca510a7",
   "metadata": {},
   "outputs": [],
   "source": [
    "nll_mdn = dist.nll_gaussian_mixture(testset.y, *pred_mdn).mean()\n",
    "nll_mdn.item()"
   ]
  },
  {
   "cell_type": "code",
   "execution_count": null,
   "id": "521e940e-f167-4b48-9c64-a0e3cb08b94d",
   "metadata": {},
   "outputs": [],
   "source": [
    "steps = range(5, 18)\n",
    "nll_neighbour = []\n",
    "for s in steps:\n",
    "    refset = pit.PITReference(steps=s)\n",
    "    distances = euclidean_distances(testset.X, refset.X)\n",
    "    js = distances.argmin(axis=1)\n",
    "    neighbour = refset.annotation[js]\n",
    "    weight = torch.stack([neighbour[:, 0], 1 - neighbour[:, 0]], dim=1)\n",
    "    mean = torch.stack((-neighbour[:, 1] / 2, neighbour[:, 1] / 2), dim=1)\n",
    "    variance = neighbour[:, 2:]\n",
    "    nll = dist.nll_gaussian_mixture(testset.y, weight, mean, variance)\n",
    "    nll_neighbour.append(nll.mean().item())\n",
    "    print(f\"{s:2d} {nll_neighbour[-1]:f} {s ** 4}\")\n",
    "\n",
    "_, ax = plt.subplots()\n",
    "size = [s ** 4 for s in steps]\n",
    "ax.scatter(size, nll_neighbour, label=\"$k$-NN\")\n",
    "ax.axhline(nll_mdn, label=\"our MDN\")\n",
    "ax.set_xlabel(\"size of reference set\")\n",
    "ax.set_ylabel(\"NLL\")\n",
    "ax.legend()\n",
    "nll_neighbour"
   ]
  },
  {
   "cell_type": "code",
   "execution_count": null,
   "id": "2d177e6f-5e2a-4338-a7b7-0f64070165ae",
   "metadata": {},
   "outputs": [],
   "source": [
    "df = pd.DataFrame.from_dict({\"steps\": steps,\n",
    "                             \"size\": size,\n",
    "                             \"nll\": nll_neighbour})\n",
    "df = df.set_index(\"steps\")\n",
    "df.to_csv(\"data/neighbour.csv\")\n",
    "df"
   ]
  },
  {
   "cell_type": "markdown",
   "id": "ee8794f1-152c-4d84-b886-309494d7f059",
   "metadata": {},
   "source": [
    "## Uniform PIT histogram"
   ]
  },
  {
   "cell_type": "code",
   "execution_count": null,
   "id": "11281282-60ff-4b81-8920-6a8d3d2f7676",
   "metadata": {},
   "outputs": [],
   "source": [
    "pit_hist_uniform = torch.full((pit.BINS, ), 1 / pit.BINS)\n",
    "pred_uniform = method.predict(interpreter, pit_hist_uniform)\n",
    "_, ax = plt.subplots()\n",
    "plot.density(ax, dist.pdf_gaussian, label=\"data-generating\")\n",
    "plot.density(ax, param2pdf(*pred_uniform), label=\"predicted data-generating\")\n",
    "ax.legend()"
   ]
  },
  {
   "cell_type": "markdown",
   "id": "fb892d67-3b39-43b2-b4a1-9f3921cbab2b",
   "metadata": {},
   "source": [
    "## UCI ML repository data sets\n",
    "\n",
    "TODO list:\n",
    "1. more data sets: power, protein, year\n",
    "1. what hyperparameters to use?\n",
    "1. confidence intervals or REM\n",
    "1. other methods: MC dropout?, concrete dropout?, Gaussian processes?"
   ]
  },
  {
   "cell_type": "code",
   "execution_count": null,
   "id": "377f9bef-cb6c-45d2-98c9-17bac5b42962",
   "metadata": {},
   "outputs": [],
   "source": [
    "def plot_interpretation(pit_hist, pred):\n",
    "    _, (ax1, ax2) = plt.subplots(nrows=2)\n",
    "    plot.pit_hist(ax1, pit_hist, label=\"true\")\n",
    "    plot.pit_hist(ax1,\n",
    "                  pit.pit_hist(pit.pit_gaussian(dist.sample_gaussian_mixture(*pred))),\n",
    "                  label=\"predicted\")\n",
    "    ax1.legend()\n",
    "    plot.density(ax2, dist.pdf_gaussian, label=\"predictive\")\n",
    "    plot.density(ax2, param2pdf(*pred), label=\"predicted data-generating\")\n",
    "    ax2.legend()\n",
    "\n",
    "def load_dn(modelfile):\n",
    "    checkpoint = torch.load(modelfile)\n",
    "    hyperparams = checkpoint[\"hyperparams\"]\n",
    "    dn = method.MDN(inputs=hyperparams[\"inputs\"],\n",
    "                    neurons=hyperparams[\"neurons\"],\n",
    "                    components=hyperparams[\"m\"])\n",
    "    dn.load_state_dict(checkpoint[\"model_state_dict\"])\n",
    "    return dn"
   ]
  },
  {
   "cell_type": "markdown",
   "id": "6ad565a5-d0c0-44ee-8dd7-263c7bd44e67",
   "metadata": {},
   "source": [
    "### Metrics"
   ]
  },
  {
   "cell_type": "code",
   "execution_count": null,
   "id": "244c6f87-97ca-4004-afa7-57e4d2dc1f27",
   "metadata": {},
   "outputs": [],
   "source": [
    "api = wandb.Api()\n",
    "runs = api.runs(\"podondra/calibration\")\n",
    "\n",
    "keys = [\"dataname\", \"seed\", \"method\"]\n",
    "data, names = [], []\n",
    "for run in runs:\n",
    "    names.append(run.name)\n",
    "    dictionary = {k: run.config[k] for k in keys}\n",
    "    dictionary[\"nll\"] = run.summary[\"test.nll\"]\n",
    "    dictionary[\"crps\"] = run.summary[\"test.crps\"]\n",
    "    data.append(dictionary)\n",
    "\n",
    "df = pd.DataFrame(data=data, index=names)\n",
    "df"
   ]
  },
  {
   "cell_type": "code",
   "execution_count": null,
   "id": "ad7ebd1a-903b-41ef-b5d6-767f72ee7a8d",
   "metadata": {},
   "outputs": [],
   "source": [
    "gdf = df.groupby([\"dataname\", \"method\"])"
   ]
  },
  {
   "cell_type": "code",
   "execution_count": null,
   "id": "c6bc8a08-17be-4060-9492-33ca74b49961",
   "metadata": {},
   "outputs": [],
   "source": [
    "gdf[\"nll\"].agg([\"mean\", \"sem\"])"
   ]
  },
  {
   "cell_type": "code",
   "execution_count": null,
   "id": "98ca5692-47f4-49ae-8507-9db9195fb257",
   "metadata": {},
   "outputs": [],
   "source": [
    "gdf[\"crps\"].agg([\"mean\", \"sem\"])"
   ]
  },
  {
   "cell_type": "markdown",
   "id": "446d3265-8705-4828-bb66-fa532770e713",
   "metadata": {},
   "source": [
    "### Protein"
   ]
  },
  {
   "cell_type": "code",
   "execution_count": null,
   "id": "5c33909c-b016-45d3-838b-faf05594854d",
   "metadata": {},
   "outputs": [],
   "source": [
    "X, y = data.protein()\n",
    "X_train, X_test, y_train, y_test = train_test_split(X, y, test_size=0.1, random_state=33)\n",
    "X_train, _, y_train, _ = train_test_split(X_train, y_train, test_size=0.1, random_state=79)"
   ]
  },
  {
   "cell_type": "markdown",
   "id": "9a94d743-6681-4a6f-a46d-585562ab53d4",
   "metadata": {},
   "source": [
    "#### Density network"
   ]
  },
  {
   "cell_type": "code",
   "execution_count": null,
   "id": "7e28814d-1882-40ec-9f82-532912b8cae2",
   "metadata": {},
   "outputs": [],
   "source": [
    "dn = load_dn(\"models/driven-serenity-33.pt\")\n",
    "\n",
    "y_dn = inverse_transform(method.predict(dn, X_test)[1:], y_scaler)\n",
    "pit_hist_dn = pit.pit_hist(pit.pit_gaussian(y_test, *y_dn))\n",
    "pred_dn = method.predict(interpreter, pit_hist_dn)\n",
    "\n",
    "plot_interpretation(pit_hist_dn, pred_dn)"
   ]
  },
  {
   "cell_type": "markdown",
   "id": "53d594ea-c53c-465e-8a75-4daaadffd670",
   "metadata": {},
   "source": [
    "#### Deep Ensemble"
   ]
  },
  {
   "cell_type": "code",
   "execution_count": null,
   "id": "2f59e474-b704-4b65-9955-0be5b9fdf958",
   "metadata": {},
   "outputs": [],
   "source": [
    "checkpoint = torch.load(\"models/crimson-firebrand-43.pt\")\n",
    "hyperparams = checkpoint[\"hyperparams\"]\n",
    "de = method.DE(inputs=hyperparams[\"inputs\"],\n",
    "                 neurons=hyperparams[\"neurons\"],\n",
    "                 members=hyperparams[\"m\"])\n",
    "de.load_state_dict(checkpoint[\"model_state_dict\"])\n",
    "de"
   ]
  },
  {
   "cell_type": "code",
   "execution_count": null,
   "id": "226d9b3d-8b62-4811-8395-6bb9e430c072",
   "metadata": {},
   "outputs": [],
   "source": [
    "y_de = inverse_transform(method.predict(de, X_test), y_scaler)\n",
    "pit_hist_de = pit.pit_hist(pit.pit_gaussian(y_test, *y_de))\n",
    "pred_de = method.predict(interpreter, pit_hist_de)"
   ]
  },
  {
   "cell_type": "code",
   "execution_count": null,
   "id": "4dce1154-a445-4269-ada0-27cf89887543",
   "metadata": {},
   "outputs": [],
   "source": [
    "plot_interpretation(pit_hist_de, pred_de)"
   ]
  },
  {
   "cell_type": "markdown",
   "id": "22fb444b-ae7b-4cde-9895-adbd81d4eb57",
   "metadata": {},
   "source": [
    "#### Mixture density network"
   ]
  },
  {
   "cell_type": "code",
   "execution_count": null,
   "id": "825c3dcc-51de-4837-be33-8954d04bbbcd",
   "metadata": {},
   "outputs": [],
   "source": [
    "checkpoint = torch.load(\"models/dainty-feather-49.pt\")\n",
    "hyperparams = checkpoint[\"hyperparams\"]\n",
    "mdn = method.MDN(inputs=9, neurons=hyperparams[\"neurons\"], components=5)\n",
    "mdn.load_state_dict(checkpoint[\"model_state_dict\"])\n",
    "mdn"
   ]
  },
  {
   "cell_type": "code",
   "execution_count": null,
   "id": "791ace50-0f51-4f43-bc07-93f7cfe86392",
   "metadata": {},
   "outputs": [],
   "source": [
    "y_mdn = inverse_transform(method.predict(mdn, X_test), y_scaler)\n",
    "pit_hist_mdn = pit.pit_hist(pit.pit_gaussian_mixture(y_test, *y_mdn))"
   ]
  },
  {
   "cell_type": "code",
   "execution_count": null,
   "id": "8f40c780-2f83-4f48-88c5-933b0b697442",
   "metadata": {},
   "outputs": [],
   "source": [
    "_, ax = plt.subplots()\n",
    "plot.pit_hist(ax, pit_hist_mdn)"
   ]
  }
 ],
 "metadata": {
  "kernelspec": {
   "display_name": "Python 3 (ipykernel)",
   "language": "python",
   "name": "python3"
  },
  "language_info": {
   "codemirror_mode": {
    "name": "ipython",
    "version": 3
   },
   "file_extension": ".py",
   "mimetype": "text/x-python",
   "name": "python",
   "nbconvert_exporter": "python",
   "pygments_lexer": "ipython3",
   "version": "3.10.4"
  }
 },
 "nbformat": 4,
 "nbformat_minor": 5
}
