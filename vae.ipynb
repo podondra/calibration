{
 "cells": [
  {
   "cell_type": "markdown",
   "id": "daa3cd4e-a54d-4d08-b05a-a7e930cd37df",
   "metadata": {},
   "source": [
    "# Variational Auto-Encoder"
   ]
  },
  {
   "cell_type": "code",
   "execution_count": null,
   "id": "81692ed8-1390-487c-ac58-b344c2960940",
   "metadata": {
    "id": "81692ed8-1390-487c-ac58-b344c2960940"
   },
   "outputs": [],
   "source": [
    "from functools import partial\n",
    "\n",
    "from matplotlib import gridspec\n",
    "from matplotlib import pyplot as plt\n",
    "from matplotlib.patches import Ellipse\n",
    "\n",
    "from vae import *"
   ]
  },
  {
   "cell_type": "code",
   "execution_count": null,
   "id": "e30b4152-ce0b-4d55-b9bd-f03a25213581",
   "metadata": {},
   "outputs": [],
   "source": [
    "%matplotlib widget"
   ]
  },
  {
   "cell_type": "code",
   "execution_count": null,
   "id": "95d75d5f-3398-44be-8792-d959ff3a40f3",
   "metadata": {},
   "outputs": [],
   "source": [
    "def pit_hist(ax, x, n_bins, **kwargs):\n",
    "    ax.hist(x, range=(0, 1), bins=n_bins, **kwargs)\n",
    "\n",
    "def pit_stairs(ax, x, n_bins, **kwargs):\n",
    "    ax.stairs(x, np.linspace(0, 1, n_bins + 1), **kwargs)\n",
    "\n",
    "def get_grid():\n",
    "    fig = plt.figure(tight_layout=True)\n",
    "    gs = gridspec.GridSpec(2, 2)\n",
    "    ax = fig.add_subplot(gs[0, :])\n",
    "    ax_true = fig.add_subplot(gs[1, 0])\n",
    "    ax_pred = fig.add_subplot(gs[1, 1])\n",
    "    return fig, ax, ax_true, ax_pred\n",
    "\n",
    "def plot_pred_press(event, ax, model, plot_function):\n",
    "    x = float(event.xdata)\n",
    "    y = float(event.ydata)\n",
    "    if x is not None and y is not None:\n",
    "        ax.clear()\n",
    "        x_pred = model.decoder.decode(torch.tensor([[x, y]]))[0]\n",
    "        plot_function(ax, x_pred, label=f\"({x:.4f}, {y:.4f})\")\n",
    "        ax.legend()\n",
    "        fig.canvas.draw()\n",
    "\n",
    "def plot_true_pick(event, ax, dataset, model, plot_function):\n",
    "    idx = event.ind[0]\n",
    "    ax.clear()\n",
    "    # true\n",
    "    x, y = dataset.X[idx], dataset.y[idx]\n",
    "    plot_function(ax, x, label=repr(y))\n",
    "    # reconstruction\n",
    "    mu, sigma = model.encode(x.unsqueeze(0))\n",
    "    x_pred = model.decoder.decode(mu)[0]\n",
    "    plot_function(ax, x_pred)\n",
    "    ax.legend()\n",
    "    fig.canvas.draw()"
   ]
  },
  {
   "cell_type": "code",
   "execution_count": null,
   "id": "aeb21ba8-ff5a-4ab9-802c-d91be1c3905f",
   "metadata": {},
   "outputs": [],
   "source": [
    "REPEATS = 1\n",
    "SAMPLES = 1000\n",
    "\n",
    "seed()\n",
    "data_train = generate_data(REPEATS, SAMPLES)\n",
    "data_test = generate_data(1, SAMPLES)\n",
    "colors = [\"red\" if type(a[1]) is Normal else \"green\" for a in data_train[1]]\n",
    "trainset, testset = PITHistDataset(*data_train, BINS), PITHistDataset(*data_test, BINS)\n",
    "len(trainset), len(testset)"
   ]
  },
  {
   "cell_type": "code",
   "execution_count": null,
   "id": "fcf36112-d4eb-44a8-9bd9-1928be0ff55a",
   "metadata": {},
   "outputs": [],
   "source": [
    "vae = VAE(input_dim=BINS, n_hiddens=1, n_neurons=16, epsilon=None)\n",
    "vae.load_state_dict(torch.load(\"models/winter-grass-2.pt\"))\n",
    "mu_train, sigma_train = vae.encode(trainset.X)\n",
    "vae"
   ]
  },
  {
   "cell_type": "code",
   "execution_count": null,
   "id": "7693f118-28b7-472c-bb5c-c37194c490fb",
   "metadata": {},
   "outputs": [],
   "source": [
    "fig, ax, ax_true, ax_pred = get_grid()\n",
    "\n",
    "for i in range(len(trainset)):\n",
    "    size = 3 * sigma_train[i]\n",
    "    e = Ellipse(xy=mu_train[i], width=size, height=size)\n",
    "    ax.add_artist(e)\n",
    "    e.set_clip_box(ax.bbox)\n",
    "    e.set_alpha(0.1)\n",
    "    e.set_facecolor(\"k\")\n",
    "\n",
    "ax.scatter(mu_train[:, 0], mu_train[:, 1], c=colors, marker=\"x\", picker=True)\n",
    "ax.set_xlim(-3, 3)\n",
    "ax.set_ylim(-3, 3)\n",
    "plot_function = partial(pit_stairs, n_bins=BINS)\n",
    "fig.canvas.mpl_connect(\n",
    "    \"pick_event\",\n",
    "    partial(plot_true_pick, ax=ax_true, dataset=trainset, model=vae, plot_function=plot_function))\n",
    "fig.canvas.mpl_connect(\n",
    "    \"button_press_event\",\n",
    "    partial(plot_pred_press, ax=ax_pred, model=vae, plot_function=plot_function))"
   ]
  },
  {
   "cell_type": "code",
   "execution_count": null,
   "id": "c2579595-e387-429e-b463-919d9a3f277d",
   "metadata": {},
   "outputs": [],
   "source": [
    "pit_hist_uni = torch.full((1, 10), 0.1)\n",
    "_, ax = plt.subplots()\n",
    "pit_stairs(ax, pit_hist_uni[0], BINS, label=\"true\")\n",
    "pit_stairs(ax, vae.decoder.decode(vae.encode(pit_hist_uni)[0])[0], BINS, label=\"reconstruction\")\n",
    "ax.legend()"
   ]
  }
 ],
 "metadata": {
  "accelerator": "GPU",
  "colab": {
   "gpuType": "T4",
   "provenance": []
  },
  "gpuClass": "standard",
  "kernelspec": {
   "display_name": "Python 3 (ipykernel)",
   "language": "python",
   "name": "python3"
  },
  "language_info": {
   "codemirror_mode": {
    "name": "ipython",
    "version": 3
   },
   "file_extension": ".py",
   "mimetype": "text/x-python",
   "name": "python",
   "nbconvert_exporter": "python",
   "pygments_lexer": "ipython3",
   "version": "3.10.4"
  }
 },
 "nbformat": 4,
 "nbformat_minor": 5
}
