{
 "cells": [
  {
   "cell_type": "code",
   "execution_count": null,
   "id": "33b74ead-5961-4cf4-ac02-9e6167008cf3",
   "metadata": {},
   "outputs": [],
   "source": [
    "from math import sqrt, log\n",
    "\n",
    "from matplotlib import pyplot as plt\n",
    "\n",
    "from vae import *"
   ]
  },
  {
   "cell_type": "code",
   "execution_count": null,
   "id": "c9874842-3cf3-48a2-b023-a61eaf78a547",
   "metadata": {},
   "outputs": [],
   "source": [
    "# under- and overestimation\n",
    "# equidistant\n",
    "location = torch.linspace(-2, 2, steps=5)\n",
    "location"
   ]
  },
  {
   "cell_type": "code",
   "execution_count": null,
   "id": "b957668b-90d3-4a06-8e7e-12f3334af4ef",
   "metadata": {},
   "outputs": [],
   "source": [
    "# under- and overdispersion\n",
    "# logarithmic\n",
    "scale = torch.exp(torch.linspace(log(1 / 3), log(3), steps=5))\n",
    "scale"
   ]
  },
  {
   "cell_type": "code",
   "execution_count": null,
   "id": "aee341ae-c1c0-4828-843a-fd306a19483f",
   "metadata": {},
   "outputs": [],
   "source": [
    "# uni- and multimodal\n",
    "x = torch.tensor([0.1, 0.25, 0.5, 0.75, 1])\n",
    "separation = 2 * (1 - x ** 2)\n",
    "separation"
   ]
  },
  {
   "cell_type": "code",
   "execution_count": null,
   "id": "bad7a82c-6cc0-49e7-a60a-437ec0751bb6",
   "metadata": {},
   "outputs": [],
   "source": [
    "len(location) * len(scale) * len(separation)"
   ]
  },
  {
   "cell_type": "code",
   "execution_count": null,
   "id": "9aae311e-3c89-4ec7-b380-d4808c722c4e",
   "metadata": {},
   "outputs": [],
   "source": [
    "END = 7\n",
    "DOMAIN = torch.linspace(-END, END, steps=512)\n",
    "SAMPLES = 1000\n",
    "\n",
    "for b in location:\n",
    "    for s in scale:\n",
    "        for d in separation:\n",
    "            dist_pred = Normal(b, s)\n",
    "            dist_true = Mixture([0.5, 0.5],\n",
    "                                [Normal(-d / 2, 1 - d ** 2 / 4),\n",
    "                                 Normal(d / 2, 1 - d ** 2 / 4)])\n",
    "            _, (ax, ax_pit) = plt.subplots(nrows=2)\n",
    "            ax.plot(DOMAIN, dist_true.pdf(DOMAIN), label=\"data-generating\")\n",
    "            ax.plot(DOMAIN, dist_pred.pdf(DOMAIN), label=\"predictive\")\n",
    "            pit_values = pit(dist_pred, dist_true.sample(SAMPLES))\n",
    "            ax_pit.hist(pit_values, range=(0, 1), bins=10)"
   ]
  }
 ],
 "metadata": {
  "kernelspec": {
   "display_name": "Python 3 (ipykernel)",
   "language": "python",
   "name": "python3"
  },
  "language_info": {
   "codemirror_mode": {
    "name": "ipython",
    "version": 3
   },
   "file_extension": ".py",
   "mimetype": "text/x-python",
   "name": "python",
   "nbconvert_exporter": "python",
   "pygments_lexer": "ipython3",
   "version": "3.10.4"
  }
 },
 "nbformat": 4,
 "nbformat_minor": 5
}
