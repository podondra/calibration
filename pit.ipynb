{
 "cells": [
  {
   "cell_type": "code",
   "execution_count": null,
   "id": "81692ed8-1390-487c-ac58-b344c2960940",
   "metadata": {
    "id": "81692ed8-1390-487c-ac58-b344c2960940"
   },
   "outputs": [],
   "source": [
    "from functools import partial\n",
    "\n",
    "from matplotlib import gridspec\n",
    "from matplotlib import pyplot as plt\n",
    "\n",
    "from pit import *"
   ]
  },
  {
   "cell_type": "code",
   "execution_count": null,
   "id": "e30b4152-ce0b-4d55-b9bd-f03a25213581",
   "metadata": {},
   "outputs": [],
   "source": [
    "%matplotlib widget"
   ]
  },
  {
   "cell_type": "code",
   "execution_count": null,
   "id": "84a49ec5-cecb-42e7-899f-daab5b1b4da3",
   "metadata": {},
   "outputs": [],
   "source": [
    "def get_grid():\n",
    "    fig = plt.figure(tight_layout=True)\n",
    "    gs = gridspec.GridSpec(2, 2)\n",
    "    ax = fig.add_subplot(gs[0, :])\n",
    "    ax_true = fig.add_subplot(gs[1, 0])\n",
    "    ax_pred = fig.add_subplot(gs[1, 1])\n",
    "    return fig, ax, ax_true, ax_pred\n",
    "\n",
    "def plot_pred(event, ax, model, plot_function):\n",
    "    x = float(event.xdata)\n",
    "    y = float(event.ydata)\n",
    "    if x is not None and y is not None:\n",
    "        ax.clear()\n",
    "        reconstruction = model.decode(torch.tensor([[x, y]]))[0]\n",
    "        plot_function(ax, reconstruction, label=f\"({x:.4f}, {y:.4f})\")\n",
    "        ax.legend()\n",
    "        fig.canvas.draw()\n",
    "\n",
    "def plot_true(event, ax, data_set, plot_function):\n",
    "    idx = event.ind[0]\n",
    "    ax.clear()\n",
    "    x, y = data_set.X[idx], data_set.y[idx]\n",
    "    plot_function(ax, x, label=repr(y))\n",
    "    ax.legend()\n",
    "    fig.canvas.draw()"
   ]
  },
  {
   "cell_type": "code",
   "execution_count": null,
   "id": "77039834-21aa-4883-8145-331d3d022560",
   "metadata": {},
   "outputs": [],
   "source": [
    "def pit_hist(ax, x, n_bins, **kwargs):\n",
    "    ax.hist(x, range=(0, 1), bins=n_bins, **kwargs)\n",
    "\n",
    "def pit_stairs(ax, x, n_bins, **kwargs):\n",
    "    ax.stairs(x, np.linspace(0, 1, n_bins + 1), **kwargs)"
   ]
  },
  {
   "cell_type": "code",
   "execution_count": null,
   "id": "e9f24a67-a720-46aa-97b7-8cbc6d8d5da9",
   "metadata": {
    "scrolled": true
   },
   "outputs": [],
   "source": [
    "seed()\n",
    "n_repeats, n_samples = 10, 1000\n",
    "train_data = generate_data(n_repeats, n_samples)\n",
    "test_data = generate_data(n_repeats=1, n_samples=1000)\n",
    "colors = [\"red\" if type(a[1]) is Normal else \"green\" for a in train_data[1]]"
   ]
  },
  {
   "cell_type": "markdown",
   "id": "49e861ce-0cbb-4020-ad28-37f1587ea8cd",
   "metadata": {},
   "source": [
    "## Embedder"
   ]
  },
  {
   "cell_type": "code",
   "execution_count": null,
   "id": "2bc7deba-a119-4c0e-9a2b-3e3b285fc14e",
   "metadata": {},
   "outputs": [],
   "source": [
    "train_set, test_set = PITValuesDataset(*train_data), PITValuesDataset(*test_data)\n",
    "\n",
    "embedder = EmbedderDecoder(len(train_set), embed_dim=2, n_hiddens=10, output_dim=100)\n",
    "embedder.load_state_dict(torch.load(\"models/lemon-vortex-535.pt\"))\n",
    "embedder"
   ]
  },
  {
   "cell_type": "code",
   "execution_count": null,
   "id": "5a0c2503-b53a-407f-a3c1-505157c87dfe",
   "metadata": {
    "colab": {
     "base_uri": "https://localhost:8080/"
    },
    "id": "rOBk7LrLCyIj",
    "outputId": "0e594acc-4d7a-4cfd-b9ba-ee8077595d54"
   },
   "outputs": [],
   "source": [
    "train_embeds = embedder.embed(torch.arange(len(train_set)))\n",
    "hyperparams = {\"bs\": 32, \"lr\": 0.1, \"patience\": 100}\n",
    "test_embedder = embedder.new_data_set(test_set, hyperparams)\n",
    "test_embeds = test_embedder.embed(torch.arange(len(test_set)))"
   ]
  },
  {
   "cell_type": "code",
   "execution_count": null,
   "id": "cf92b51c-f5ec-4689-b4b6-cef785da3f27",
   "metadata": {},
   "outputs": [],
   "source": [
    "fig, ax, ax_true, ax_pred = get_grid()\n",
    "ax.scatter(train_embeds[:, 0], train_embeds[:, 1], c=colors, alpha=0.5, picker=True)\n",
    "ax.scatter(test_embeds[:, 0], test_embeds[:, 1], marker=\"*\", s=100, c=\"black\")\n",
    "\n",
    "plot_function = partial(pit_hist, n_bins=20)\n",
    "fig.canvas.mpl_connect(\n",
    "    \"button_press_event\",\n",
    "    partial(plot_pred, ax=ax_pred, model=embedder, plot_function=plot_function))\n",
    "fig.canvas.mpl_connect(\n",
    "    \"pick_event\",\n",
    "    partial(plot_true, ax=ax_true, data_set=train_set, plot_function=plot_function))"
   ]
  },
  {
   "cell_type": "markdown",
   "id": "1426cb17-0f73-494c-873c-370c6e9742e1",
   "metadata": {},
   "source": [
    "## Encoder"
   ]
  },
  {
   "cell_type": "code",
   "execution_count": null,
   "id": "5d26606b-5d3a-428b-b9ae-1caaa9765d17",
   "metadata": {},
   "outputs": [],
   "source": [
    "BINS = 20"
   ]
  },
  {
   "cell_type": "code",
   "execution_count": null,
   "id": "91fcd03d-19ee-4622-8d6d-70b7ccf6721f",
   "metadata": {},
   "outputs": [],
   "source": [
    "encoder = EncoderDecoder(input_dim=BINS, n_hiddens=10, embed_dim=2)\n",
    "encoder.load_state_dict(torch.load(\"models/stilted-snowflake-536.pt\"))\n",
    "encoder"
   ]
  },
  {
   "cell_type": "code",
   "execution_count": null,
   "id": "6351c2d0-f22e-4b70-9941-bc8999403880",
   "metadata": {},
   "outputs": [],
   "source": [
    "train_set, test_set = PITHistDataset(*train_data, BINS), PITHistDataset(*test_data, BINS)"
   ]
  },
  {
   "cell_type": "code",
   "execution_count": null,
   "id": "e1b6373f-2a7d-493a-9870-6fa6a14eb1a4",
   "metadata": {},
   "outputs": [],
   "source": [
    "train_embeds = encoder.embed(train_set.X)\n",
    "test_embeds = encoder.embed(test_set.X)\n",
    "train_embeds.shape, test_embeds.shape"
   ]
  },
  {
   "cell_type": "code",
   "execution_count": null,
   "id": "30bd3057-b02a-4dc8-bab4-c6623d0087df",
   "metadata": {},
   "outputs": [],
   "source": [
    "fig, ax, ax_true, ax_pred = get_grid()\n",
    "ax.scatter(train_embeds[:, 0], train_embeds[:, 1], c=colors, alpha=0.5, picker=True)\n",
    "ax.scatter(test_embeds[:, 0], test_embeds[:, 1], marker=\"*\", s=100, c=\"black\")\n",
    "\n",
    "plot_function = partial(pit_stairs, n_bins=20)\n",
    "fig.canvas.mpl_connect(\n",
    "    \"button_press_event\",\n",
    "    partial(plot_pred, ax=ax_pred, model=encoder, plot_function=plot_function))\n",
    "fig.canvas.mpl_connect(\n",
    "    \"pick_event\",\n",
    "    partial(plot_true, ax=ax_true, data_set=train_set, plot_function=plot_function))"
   ]
  }
 ],
 "metadata": {
  "accelerator": "GPU",
  "colab": {
   "gpuType": "T4",
   "provenance": []
  },
  "gpuClass": "standard",
  "kernelspec": {
   "display_name": "Python 3 (ipykernel)",
   "language": "python",
   "name": "python3"
  },
  "language_info": {
   "codemirror_mode": {
    "name": "ipython",
    "version": 3
   },
   "file_extension": ".py",
   "mimetype": "text/x-python",
   "name": "python",
   "nbconvert_exporter": "python",
   "pygments_lexer": "ipython3",
   "version": "3.10.4"
  }
 },
 "nbformat": 4,
 "nbformat_minor": 5
}
