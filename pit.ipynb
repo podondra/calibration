{
 "cells": [
  {
   "cell_type": "code",
   "execution_count": null,
   "id": "81692ed8-1390-487c-ac58-b344c2960940",
   "metadata": {
    "id": "81692ed8-1390-487c-ac58-b344c2960940"
   },
   "outputs": [],
   "source": [
    "from functools import partial\n",
    "\n",
    "from matplotlib import gridspec\n",
    "from matplotlib import pyplot as plt\n",
    "from sklearn.model_selection import train_test_split\n",
    "from sklearn.neighbors import KDTree\n",
    "import torch\n",
    "import wandb\n",
    "\n",
    "from pit import *"
   ]
  },
  {
   "cell_type": "code",
   "execution_count": null,
   "id": "e30b4152-ce0b-4d55-b9bd-f03a25213581",
   "metadata": {},
   "outputs": [],
   "source": [
    "%matplotlib widget"
   ]
  },
  {
   "cell_type": "code",
   "execution_count": null,
   "id": "c705347b-4414-4c9c-82b3-bd6864c7d600",
   "metadata": {},
   "outputs": [],
   "source": [
    "torch.inf * 0, torch.inf * 1e-6"
   ]
  },
  {
   "cell_type": "code",
   "execution_count": null,
   "id": "774089f4-2bcf-40b4-bbcd-e41c2823cc42",
   "metadata": {},
   "outputs": [],
   "source": [
    "BINS = 8"
   ]
  },
  {
   "cell_type": "code",
   "execution_count": null,
   "id": "84a49ec5-cecb-42e7-899f-daab5b1b4da3",
   "metadata": {},
   "outputs": [],
   "source": [
    "def get_grid():\n",
    "    fig = plt.figure(tight_layout=True)\n",
    "    gs = gridspec.GridSpec(2, 2)\n",
    "    ax = fig.add_subplot(gs[0, :])\n",
    "    ax_true = fig.add_subplot(gs[1, 0])\n",
    "    ax_pred = fig.add_subplot(gs[1, 1])\n",
    "    return fig, ax, ax_true, ax_pred\n",
    "\n",
    "def plot_pred(event, ax, model, plot_function):\n",
    "    x = float(event.xdata)\n",
    "    y = float(event.ydata)\n",
    "    if x is not None and y is not None:\n",
    "        ax.clear()\n",
    "        reconstruction = model.decode(torch.tensor([[x, y]], device=DEVICE))[0]\n",
    "        plot_function(ax, reconstruction, label=f\"({x:.4f}, {y:.4f})\")\n",
    "        ax.legend()\n",
    "        fig.canvas.draw()\n",
    "\n",
    "def plot_true(event, ax, data, plot_function):\n",
    "    idx = event.ind[0]\n",
    "    ax.clear()\n",
    "    x, y = data[idx]\n",
    "    label = \"\\n\".join(repr(y)[11:-2].split(\"), \"))\n",
    "    plot_function(ax, x, label=label)\n",
    "    ax.legend()\n",
    "    fig.canvas.draw()"
   ]
  },
  {
   "cell_type": "code",
   "execution_count": null,
   "id": "77039834-21aa-4883-8145-331d3d022560",
   "metadata": {},
   "outputs": [],
   "source": [
    "def pit_hist(ax, x, **kwargs):\n",
    "    ax.hist(x, range=(0, 1), bins=BINS, **kwargs)\n",
    "\n",
    "def pit_stairs(ax, x, **kwargs):\n",
    "    ax.stairs(x, np.linspace(0, 1, BINS + 1), **kwargs)"
   ]
  },
  {
   "cell_type": "code",
   "execution_count": null,
   "id": "313f1ab6-bc75-4552-ab88-934ec2e84280",
   "metadata": {},
   "outputs": [],
   "source": [
    "data = generate_data(10, 1000)\n",
    "train_data, test_data = train_test_split(data, test_size=0.2, random_state=86)"
   ]
  },
  {
   "cell_type": "code",
   "execution_count": null,
   "id": "63970d8f-ade8-40d2-9d53-eeaf78a27413",
   "metadata": {},
   "outputs": [],
   "source": [
    "colors = [\"red\" if math.isclose(a.pis[0], 1.0) else \"green\" for _, a in train_data]"
   ]
  },
  {
   "cell_type": "code",
   "execution_count": null,
   "id": "75e88861-4e10-4389-b7d0-7f2cde300738",
   "metadata": {
    "colab": {
     "base_uri": "https://localhost:8080/"
    },
    "id": "lKNCPtd528z7",
    "outputId": "e15cd7dd-dea7-40b7-c3d2-db4267481328"
   },
   "outputs": [],
   "source": [
    "dist_true = Normal(0, 1)\n",
    "dist_pred = Normal(0, 1)\n",
    "test_data = [(pit(dist_pred, dist_true.sample(5000)), torch.nan)]"
   ]
  },
  {
   "cell_type": "markdown",
   "id": "49e861ce-0cbb-4020-ad28-37f1587ea8cd",
   "metadata": {},
   "source": [
    "## Embedder"
   ]
  },
  {
   "cell_type": "code",
   "execution_count": null,
   "id": "795d42e0-812b-4f82-be70-81ae6256680c",
   "metadata": {},
   "outputs": [],
   "source": [
    "embedder = EmbedderDecoder(len(train_data), embed_dim=2, hiddens=8, output_dim=512)\n",
    "embedder.load_state_dict(torch.load(\"models/dainty-sweep-8.pt\"))\n",
    "embedder"
   ]
  },
  {
   "cell_type": "code",
   "execution_count": null,
   "id": "892b904d-360f-4d2a-be4d-2f209043b43a",
   "metadata": {
    "colab": {
     "base_uri": "https://localhost:8080/"
    },
    "id": "lKNCPtd528z7",
    "outputId": "e15cd7dd-dea7-40b7-c3d2-db4267481328"
   },
   "outputs": [],
   "source": [
    "hyperparams = {\"bs\": 32, \"lr\": 0.1, \"patience\": 1000}\n",
    "new_embedder = embedder.new_data_set(PITValuesDataset(test_data), hyperparams)\n",
    "embedding = new_embedder.embed(torch.tensor([0], device=DEVICE))\n",
    "reconstruction = new_embedder.decode(embedding.to(DEVICE))\n",
    "_, (ax1, ax2) = plt.subplots(nrows=2)\n",
    "pit_hist(ax1, test_data[0][0])\n",
    "pit_hist(ax2, reconstruction)"
   ]
  },
  {
   "cell_type": "code",
   "execution_count": null,
   "id": "a1242e52-e02e-49d2-892d-85cc9b66c41d",
   "metadata": {
    "colab": {
     "base_uri": "https://localhost:8080/"
    },
    "id": "rOBk7LrLCyIj",
    "outputId": "0e594acc-4d7a-4cfd-b9ba-ee8077595d54"
   },
   "outputs": [],
   "source": [
    "embeddings = embedder.embed(torch.arange(len(train_data), device=DEVICE))\n",
    "tree = KDTree(embeddings, leaf_size=2, metric=\"euclidean\")\n",
    "js = tree.query(embedding, k=3, return_distance=False)[0]\n",
    "[train_data[j][1] for j in js]"
   ]
  },
  {
   "cell_type": "code",
   "execution_count": null,
   "id": "cf92b51c-f5ec-4689-b4b6-cef785da3f27",
   "metadata": {},
   "outputs": [],
   "source": [
    "fig, ax, ax_true, ax_pred = get_grid()\n",
    "ax.scatter(embeddings[:, 0], embeddings[:, 1], c=colors, alpha=0.5, picker=True)\n",
    "ax.scatter(embedding[:, 0], embedding[:, 1], marker=\"*\", s=100, c=\"black\")\n",
    "ax.scatter(embeddings[js, 0], embeddings[js, 1], marker=\"*\", s=100, c=\"yellow\")\n",
    "\n",
    "#fig.canvas.mpl_connect(\"motion_notify_event\", plot_pred)\n",
    "fig.canvas.mpl_connect(\"button_press_event\", partial(plot_pred, ax=ax_pred, model=embedder, plot_function=pit_hist))\n",
    "fig.canvas.mpl_connect(\"pick_event\", partial(plot_true, ax=ax_true, data=train_data, plot_function=pit_hist))"
   ]
  },
  {
   "cell_type": "markdown",
   "id": "1426cb17-0f73-494c-873c-370c6e9742e1",
   "metadata": {},
   "source": [
    "## Encoder"
   ]
  },
  {
   "cell_type": "code",
   "execution_count": null,
   "id": "91fcd03d-19ee-4622-8d6d-70b7ccf6721f",
   "metadata": {},
   "outputs": [],
   "source": [
    "encoder = EncoderDecoder(input_dim=BINS, hiddens=64, embed_dim=2)\n",
    "encoder.load_state_dict(torch.load(\"models/driven-sweep-439.pt\"))\n",
    "encoder"
   ]
  },
  {
   "cell_type": "code",
   "execution_count": null,
   "id": "e85f5785-af38-4cb3-86fc-3b266bbad4fc",
   "metadata": {},
   "outputs": [],
   "source": [
    "test_hist = bin_data(test_data, n_bins=BINS)[0][0]\n",
    "embedding = encoder.encode(test_hist.unsqueeze(0).to(DEVICE))\n",
    "reconstruction = encoder.decode(embedding.to(DEVICE))\n",
    "_, (ax1, ax2) = plt.subplots(nrows=2)\n",
    "pit_stairs(ax1, test_hist)\n",
    "pit_stairs(ax2, reconstruction[0])"
   ]
  },
  {
   "cell_type": "code",
   "execution_count": null,
   "id": "bb480110-2455-4de4-9d42-4ef2782f3a2c",
   "metadata": {},
   "outputs": [],
   "source": [
    "train_hists = bin_data(train_data, BINS)"
   ]
  },
  {
   "cell_type": "code",
   "execution_count": null,
   "id": "4554c13a-ef93-478b-82fc-84ba20a05c5a",
   "metadata": {},
   "outputs": [],
   "source": [
    "embeddings = encoder.encode(torch.stack([h for h, _ in train_hists]).to(DEVICE))\n",
    "tree = KDTree(embeddings, leaf_size=2, metric=\"euclidean\")\n",
    "js = tree.query(embedding, k=3, return_distance=False)[0]\n",
    "[train_data[j][1] for j in js]"
   ]
  },
  {
   "cell_type": "code",
   "execution_count": null,
   "id": "30bd3057-b02a-4dc8-bab4-c6623d0087df",
   "metadata": {},
   "outputs": [],
   "source": [
    "fig, ax, ax_true, ax_pred = get_grid()\n",
    "ax.scatter(embeddings[:, 0], embeddings[:, 1], c=colors, alpha=0.5, picker=True)\n",
    "ax.scatter(embedding[:, 0], embedding[:, 1], marker=\"*\", s=100, c=\"black\")\n",
    "ax.scatter(embeddings[js, 0], embeddings[js, 1], marker=\"*\", s=100, c=\"yellow\")\n",
    "\n",
    "#fig.canvas.mpl_connect(\"motion_notify_event\", plot_pred)\n",
    "fig.canvas.mpl_connect(\"button_press_event\", partial(plot_pred, ax=ax_pred, model=encoder, plot_function=pit_stairs))\n",
    "fig.canvas.mpl_connect(\"pick_event\", partial(plot_true, ax=ax_true, data=train_hists, plot_function=pit_stairs))"
   ]
  }
 ],
 "metadata": {
  "accelerator": "GPU",
  "colab": {
   "gpuType": "T4",
   "provenance": []
  },
  "gpuClass": "standard",
  "kernelspec": {
   "display_name": "Python 3 (ipykernel)",
   "language": "python",
   "name": "python3"
  },
  "language_info": {
   "codemirror_mode": {
    "name": "ipython",
    "version": 3
   },
   "file_extension": ".py",
   "mimetype": "text/x-python",
   "name": "python",
   "nbconvert_exporter": "python",
   "pygments_lexer": "ipython3",
   "version": "3.10.4"
  }
 },
 "nbformat": 4,
 "nbformat_minor": 5
}
